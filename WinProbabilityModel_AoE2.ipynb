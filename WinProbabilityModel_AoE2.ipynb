{
  "nbformat": 4,
  "nbformat_minor": 0,
  "metadata": {
    "colab": {
      "name": "WinProbabilityModel-AoE2.ipynb",
      "provenance": [],
      "collapsed_sections": [],
      "toc_visible": true,
      "mount_file_id": "1G6Mqew-kGw-gccXK7XOPHLQblsqELdhN",
      "authorship_tag": "ABX9TyMd3rNk3fif3Dh7DLGBGEL8",
      "include_colab_link": true
    },
    "kernelspec": {
      "display_name": "Python 3",
      "name": "python3"
    },
    "language_info": {
      "name": "python"
    },
    "accelerator": "GPU"
  },
  "cells": [
    {
      "cell_type": "markdown",
      "metadata": {
        "id": "view-in-github",
        "colab_type": "text"
      },
      "source": [
        "<a href=\"https://colab.research.google.com/github/Dagobert42/WinProbabilityModel-AoE2/blob/main/WinProbabilityModel_AoE2.ipynb\" target=\"_parent\"><img src=\"https://colab.research.google.com/assets/colab-badge.svg\" alt=\"Open In Colab\"/></a>"
      ]
    },
    {
      "cell_type": "markdown",
      "metadata": {
        "id": "ydHgVoRAEOKX"
      },
      "source": [
        "# A Non-Linear Win Probability Model for Age of Empires II"
      ]
    },
    {
      "cell_type": "markdown",
      "metadata": {
        "id": "wdsVrd9mNywH"
      },
      "source": [
        "- Age of Empires II [\"AoE2\"] is a real-time strategy game set in the middle-ages\n",
        "- players build a base and command units with the goal of defeating each other \n",
        "\n",
        "**Hypothesis:** map and civilisation have non-linear influence on the initial win probabilities of a match\n",
        "\n",
        "**Idea:** compare predictive power of linear and non-linear models\n",
        "\n",
        "This project conforms to Microsoft's [Game Content Usage Rules](https://www.xbox.com/en-us/developers/rules)."
      ]
    },
    {
      "cell_type": "code",
      "metadata": {
        "id": "8hLz9Ll70CY_"
      },
      "source": [
        "import numpy as np\n",
        "import pandas as pd\n",
        "import matplotlib.pyplot as plt\n",
        "from tqdm import tqdm"
      ],
      "execution_count": 2,
      "outputs": []
    },
    {
      "cell_type": "markdown",
      "metadata": {
        "id": "P4w-23YoJzha"
      },
      "source": [
        "## 1. Introduction\n",
        "\n",
        "- players are rated in Elo-system (similar to Chess)\n",
        "- ratings can be converted directly into probability distributions for the outcome of a match between players A and B by:\n",
        "\n",
        "$$wp_{A} = \\frac{1}{1+10 ^{(r_{A} - r_{B}) / t)}}$$\n",
        "\n",
        "TODO: cite wikipedia"
      ]
    },
    {
      "cell_type": "code",
      "metadata": {
        "id": "d5D_78JGz3VI"
      },
      "source": [
        "TRANSFER = 200\n",
        "def elo_to_win_prob(r_player, r_opponent):\n",
        "    return 1 / ( 1 + 10**((r_opponent - r_player) / TRANSFER))"
      ],
      "execution_count": 3,
      "outputs": []
    },
    {
      "cell_type": "code",
      "metadata": {
        "colab": {
          "base_uri": "https://localhost:8080/",
          "height": 295
        },
        "id": "g4oUro722Zt2",
        "outputId": "267f93db-4a09-4145-ff75-92b64375b84c"
      },
      "source": [
        "player = 1600\n",
        "opponents = range(600, 2600, 100)\n",
        "probs = []\n",
        "for o in opponents:\n",
        "    probs.append(elo_to_win_prob(player, float(o)))\n",
        "plt.plot(opponents, probs)\n",
        "plt.ylabel('win probability')\n",
        "plt.xlabel('opponent elo')\n",
        "plt.title('1600 elo player')\n",
        "plt.show()"
      ],
      "execution_count": 4,
      "outputs": [
        {
          "output_type": "display_data",
          "data": {
            "image/png": "[encoded data removed]",
            "text/plain": [
              "<Figure size 432x288 with 1 Axes>"
            ]
          },
          "metadata": {
            "needs_background": "light"
          }
        }
      ]
    },
    {
      "cell_type": "markdown",
      "metadata": {
        "id": "ubJRw-HFzXCD"
      },
      "source": [
        "## 2. Data Preprocessing\n",
        "\n",
        "The following section is included for purposes of the presentation. \n",
        "\n",
        "Preprocessing has **already been done** and the resulting csv is provided from the corresponding github repository."
      ]
    },
    {
      "cell_type": "markdown",
      "metadata": {
        "id": "rUgWwRIzQZys"
      },
      "source": [
        "### 1.1 Processing **matches**\n",
        "\n",
        "-   limit to 1v1 matches\n",
        "-   pick a patch (balance changes occur with patches)\n",
        "-   drop unneeded columns"
      ]
    },
    {
      "cell_type": "code",
      "metadata": {
        "colab": {
          "base_uri": "https://localhost:8080/"
        },
        "id": "ehjfrAhWUis7",
        "outputId": "d3c2f4d1-7c5d-4176-c756-7e77bb4c979d"
      },
      "source": [
        "matches = pd.read_csv('matches.csv')\n",
        "\n",
        "matches = matches.loc[matches['ladder'] == 'RM_1v1']\n",
        "matches['patch'].value_counts()"
      ],
      "execution_count": 5,
      "outputs": [
        {
          "output_type": "execute_result",
          "data": {
            "text/plain": [
              "37906    430742\n",
              "39515    261010\n",
              "36906    249256\n",
              "36202    242339\n",
              "43210    237932\n",
              "40220    222052\n",
              "40874    202466\n",
              "41855    196138\n",
              "35584     97815\n",
              "39284      5936\n",
              "37650      4909\n",
              "42848      2067\n",
              "Name: patch, dtype: int64"
            ]
          },
          "metadata": {},
          "execution_count": 5
        }
      ]
    },
    {
      "cell_type": "code",
      "metadata": {
        "colab": {
          "base_uri": "https://localhost:8080/"
        },
        "id": "0XCFeGPPQbG7",
        "outputId": "b2e9eaa8-7fc8-4b27-dad1-cc5940b937b8"
      },
      "source": [
        "matches = matches.loc[matches['patch'] == 43210] # most recent patch\n",
        "matches = matches.drop(columns=['patch', 'ladder', 'mirror', 'average_rating', 'map_size', 'num_players', 'server', 'duration'])\n",
        "matches.info()\n",
        "matches['winning_team'].value_counts()"
      ],
      "execution_count": 6,
      "outputs": [
        {
          "output_type": "stream",
          "name": "stdout",
          "text": [
            "<class 'pandas.core.frame.DataFrame'>\n",
            "Int64Index: 237932 entries, 44 to 3153755\n",
            "Data columns (total 3 columns):\n",
            " #   Column        Non-Null Count   Dtype \n",
            "---  ------        --------------   ----- \n",
            " 0   token         237932 non-null  object\n",
            " 1   winning_team  237932 non-null  int64 \n",
            " 2   map           237932 non-null  object\n",
            "dtypes: int64(1), object(2)\n",
            "memory usage: 7.3+ MB\n"
          ]
        },
        {
          "output_type": "execute_result",
          "data": {
            "text/plain": [
              " 2    119517\n",
              " 1    118408\n",
              "-1         7\n",
              "Name: winning_team, dtype: int64"
            ]
          },
          "metadata": {},
          "execution_count": 6
        }
      ]
    },
    {
      "cell_type": "markdown",
      "metadata": {
        "id": "96IlklJtyKkx"
      },
      "source": [
        "### 1.2 Processing **players**\n",
        "\n",
        "- remove players with invalid team value (-1)\n",
        "- remove matches with invalid teams\n",
        "- keep only players that were in matches\n",
        "- drop unneeded columns"
      ]
    },
    {
      "cell_type": "code",
      "metadata": {
        "colab": {
          "base_uri": "https://localhost:8080/"
        },
        "id": "07LETPmjepx1",
        "outputId": "e877005e-fe50-48b6-b92d-50f8bfe0e1b7"
      },
      "source": [
        "players = pd.read_csv('match_players.csv')\n",
        "\n",
        "invalid_players = players.loc[players['team'] == -1]\n",
        "matches = matches.loc[~matches['token'].isin(invalid_players['match'])]\n",
        "\n",
        "players = players.loc[players['match'].isin(matches['token'])]\n",
        "players = players.drop(columns=['token', 'color', 'winner'])\n",
        "players.info()\n",
        "players['team'].value_counts()"
      ],
      "execution_count": 7,
      "outputs": [
        {
          "output_type": "stream",
          "name": "stdout",
          "text": [
            "<class 'pandas.core.frame.DataFrame'>\n",
            "Int64Index: 475206 entries, 28 to 9732493\n",
            "Data columns (total 4 columns):\n",
            " #   Column  Non-Null Count   Dtype  \n",
            "---  ------  --------------   -----  \n",
            " 0   match   475206 non-null  object \n",
            " 1   rating  463297 non-null  float64\n",
            " 2   civ     475206 non-null  object \n",
            " 3   team    475206 non-null  int64  \n",
            "dtypes: float64(1), int64(1), object(2)\n",
            "memory usage: 18.1+ MB\n"
          ]
        },
        {
          "output_type": "execute_result",
          "data": {
            "text/plain": [
              "2    237605\n",
              "1    237601\n",
              "Name: team, dtype: int64"
            ]
          },
          "metadata": {},
          "execution_count": 7
        }
      ]
    },
    {
      "cell_type": "markdown",
      "metadata": {
        "id": "mT3A671GbTUU"
      },
      "source": [
        "### 1.3 Merging\n",
        "\n",
        "- merge matches and players into one dataframe\n",
        "- exclude players with invalid team (encodes the winner)\n",
        "\n",
        "This took a very long time (about 8 hours)."
      ]
    },
    {
      "cell_type": "code",
      "metadata": {
        "id": "7XvcchEU0DO1",
        "colab": {
          "base_uri": "https://localhost:8080/"
        },
        "outputId": "6686c506-6de6-4400-91eb-9dcc8d215529"
      },
      "source": [
        "!npx degit Dagobert42/WinProbabilityModel-AoE2/data -f"
      ],
      "execution_count": 8,
      "outputs": [
        {
          "output_type": "stream",
          "name": "stdout",
          "text": [
            "\u001b[K\u001b[?25hnpx: installed 1 in 2.443s\n",
            "\u001b[36m> destination directory is not empty. Using --force, continuing\u001b[39m\n",
            "\u001b[36m> cloned \u001b[1mDagobert42/WinProbabilityModel-AoE2\u001b[22m#\u001b[1mHEAD\u001b[22m\u001b[39m\n"
          ]
        }
      ]
    },
    {
      "cell_type": "code",
      "metadata": {
        "id": "_Wb3IhMaG8rC"
      },
      "source": [
        "try:\n",
        "    matches_1v1 = pd.read_csv('matches_1v1.csv')\n",
        "except:\n",
        "    matches_1v1 = pd.DataFrame(columns=['match_id', 'map', 'rating_p1', 'civ_p1', 'rating_p2', 'civ_p2'])\n",
        "\n",
        "    player_dict = players.to_dict('records')\n",
        "\n",
        "    SAVE_EVERY = 50000\n",
        "    invalid_matches = 0\n",
        "    count = 0\n",
        "    for match in tqdm(matches.to_dict('records')):\n",
        "        p1 = None\n",
        "        p2 = None\n",
        "        for i, player in enumerate(player_dict):\n",
        "            if player['match'] == match['token']:\n",
        "                if player['team'] == 1:\n",
        "                    p1 = player\n",
        "                    p1_i = i\n",
        "                elif player['team'] == 2:\n",
        "                    p2 = player\n",
        "                    p2_i = i\n",
        "            # remove already assigned players\n",
        "            # increase speed gradually\n",
        "            if p1 and p2:\n",
        "                if p1_i < p2_i:\n",
        "                    player_dict.pop(p2_i)\n",
        "                    player_dict.pop(p1_i)\n",
        "                else:\n",
        "                    player_dict.pop(p1_i)\n",
        "                    player_dict.pop(p2_i)\n",
        "                break\n",
        "\n",
        "        if not p1 or not p2:\n",
        "            invalid_matches += 1\n",
        "            continue\n",
        "        else:\n",
        "            entry = {\n",
        "                'match_id' : match['token'],\n",
        "                'map' : match['map'],\n",
        "                'rating_p1' : p1['rating'],\n",
        "                'civ_p1' : p1['civ'],\n",
        "                'rating_p2' : p2['rating'],\n",
        "                'civ_p2' : p2['civ'],\n",
        "                'winner' : match['winning_team']\n",
        "            }\n",
        "            matches_1v1 = matches_1v1.append(entry, ignore_index=True)\n",
        "\n",
        "        if count % SAVE_EVERY == 0:\n",
        "            matches_1v1.to_csv('drive/MyDrive/ColabNotebooks/AoeProjectData/matches_1v1_' + str(count) + '.csv', index=False)\n",
        "        count += 1\n",
        "        \n",
        "    print(invalid_matches, 'matches excluded (at least one player unidentifiable)')\n",
        "    # save the result!\n",
        "    matches_1v1.to_csv('drive/MyDrive/ColabNotebooks/AoeProjectData/matches_1v1.csv', index=False)"
      ],
      "execution_count": 9,
      "outputs": []
    },
    {
      "cell_type": "markdown",
      "metadata": {
        "id": "gh--L5AQqyZ0"
      },
      "source": [
        "**Question for later:** Is deleting players faster in Big O?\n",
        "\n",
        "$O(\\sum_{i=1}^{m} n-2i)$\n",
        "$= O(n-2 + n-4 + ... + n-2m)$\n",
        "\n",
        "Which would still be\n",
        "$O(m*n)$ ?\n",
        "\n",
        "Or would it be $O(n)$ since $m = 2n$?\n"
      ]
    },
    {
      "cell_type": "code",
      "metadata": {
        "colab": {
          "base_uri": "https://localhost:8080/",
          "height": 463
        },
        "id": "EI5Jjd_rHanQ",
        "outputId": "c4fe4692-d4bd-43b9-b1b5-fd5c2e6414c6"
      },
      "source": [
        "matches_1v1.info()\n",
        "matches_1v1.head()"
      ],
      "execution_count": 10,
      "outputs": [
        {
          "output_type": "stream",
          "name": "stdout",
          "text": [
            "<class 'pandas.core.frame.DataFrame'>\n",
            "RangeIndex: 140001 entries, 0 to 140000\n",
            "Data columns (total 7 columns):\n",
            " #   Column     Non-Null Count   Dtype  \n",
            "---  ------     --------------   -----  \n",
            " 0   match_id   140001 non-null  object \n",
            " 1   map        140001 non-null  object \n",
            " 2   rating_p1  136460 non-null  float64\n",
            " 3   civ_p1     140001 non-null  object \n",
            " 4   rating_p2  136653 non-null  float64\n",
            " 5   civ_p2     140001 non-null  object \n",
            " 6   winner     140001 non-null  float64\n",
            "dtypes: float64(3), object(4)\n",
            "memory usage: 7.5+ MB\n"
          ]
        },
        {
          "output_type": "execute_result",
          "data": {
            "text/html": [
              "<div>\n",
              "<style scoped>\n",
              "    .dataframe tbody tr th:only-of-type {\n",
              "        vertical-align: middle;\n",
              "    }\n",
              "\n",
              "    .dataframe tbody tr th {\n",
              "        vertical-align: top;\n",
              "    }\n",
              "\n",
              "    .dataframe thead th {\n",
              "        text-align: right;\n",
              "    }\n",
              "</style>\n",
              "<table border=\"1\" class=\"dataframe\">\n",
              "  <thead>\n",
              "    <tr style=\"text-align: right;\">\n",
              "      <th></th>\n",
              "      <th>match_id</th>\n",
              "      <th>map</th>\n",
              "      <th>rating_p1</th>\n",
              "      <th>civ_p1</th>\n",
              "      <th>rating_p2</th>\n",
              "      <th>civ_p2</th>\n",
              "      <th>winner</th>\n",
              "    </tr>\n",
              "  </thead>\n",
              "  <tbody>\n",
              "    <tr>\n",
              "      <th>0</th>\n",
              "      <td>DdP54WQtNdE0VcwM</td>\n",
              "      <td>migration</td>\n",
              "      <td>1343.0</td>\n",
              "      <td>Vikings</td>\n",
              "      <td>1332.0</td>\n",
              "      <td>Malay</td>\n",
              "      <td>1.0</td>\n",
              "    </tr>\n",
              "    <tr>\n",
              "      <th>1</th>\n",
              "      <td>ChnySMotXQbBOEBm</td>\n",
              "      <td>serengeti</td>\n",
              "      <td>1300.0</td>\n",
              "      <td>Burmese</td>\n",
              "      <td>1300.0</td>\n",
              "      <td>Franks</td>\n",
              "      <td>2.0</td>\n",
              "    </tr>\n",
              "    <tr>\n",
              "      <th>2</th>\n",
              "      <td>2gxTqXARRJB7wX3m</td>\n",
              "      <td>arabia</td>\n",
              "      <td>1277.0</td>\n",
              "      <td>Franks</td>\n",
              "      <td>1291.0</td>\n",
              "      <td>Vietnamese</td>\n",
              "      <td>1.0</td>\n",
              "    </tr>\n",
              "    <tr>\n",
              "      <th>3</th>\n",
              "      <td>JiobK4iAfpqwnc65</td>\n",
              "      <td>arabia</td>\n",
              "      <td>1161.0</td>\n",
              "      <td>Chinese</td>\n",
              "      <td>1168.0</td>\n",
              "      <td>Ethiopians</td>\n",
              "      <td>1.0</td>\n",
              "    </tr>\n",
              "    <tr>\n",
              "      <th>4</th>\n",
              "      <td>92n1BkbfROYsPb7u</td>\n",
              "      <td>arabia</td>\n",
              "      <td>1201.0</td>\n",
              "      <td>Mayans</td>\n",
              "      <td>1166.0</td>\n",
              "      <td>Vietnamese</td>\n",
              "      <td>1.0</td>\n",
              "    </tr>\n",
              "  </tbody>\n",
              "</table>\n",
              "</div>"
            ],
            "text/plain": [
              "           match_id        map  rating_p1  ... rating_p2      civ_p2 winner\n",
              "0  DdP54WQtNdE0VcwM  migration     1343.0  ...    1332.0       Malay    1.0\n",
              "1  ChnySMotXQbBOEBm  serengeti     1300.0  ...    1300.0      Franks    2.0\n",
              "2  2gxTqXARRJB7wX3m     arabia     1277.0  ...    1291.0  Vietnamese    1.0\n",
              "3  JiobK4iAfpqwnc65     arabia     1161.0  ...    1168.0  Ethiopians    1.0\n",
              "4  92n1BkbfROYsPb7u     arabia     1201.0  ...    1166.0  Vietnamese    1.0\n",
              "\n",
              "[5 rows x 7 columns]"
            ]
          },
          "metadata": {},
          "execution_count": 10
        }
      ]
    },
    {
      "cell_type": "markdown",
      "metadata": {
        "id": "2acgNg9PgcxA"
      },
      "source": [
        "### 1.4 Treating NaN-values\n",
        "\n",
        "**Problem:** some ratings are missing"
      ]
    },
    {
      "cell_type": "code",
      "metadata": {
        "colab": {
          "base_uri": "https://localhost:8080/"
        },
        "id": "ohHkbwe-NE5I",
        "outputId": "2f307aa8-25ce-4fa3-ef51-ac96bc57b4f4"
      },
      "source": [
        "nan_rated_players = players.loc[players['rating'].isna()]\n",
        "nan_rated_players.info()"
      ],
      "execution_count": 11,
      "outputs": [
        {
          "output_type": "stream",
          "name": "stdout",
          "text": [
            "<class 'pandas.core.frame.DataFrame'>\n",
            "Int64Index: 11909 entries, 7928 to 9732490\n",
            "Data columns (total 4 columns):\n",
            " #   Column  Non-Null Count  Dtype  \n",
            "---  ------  --------------  -----  \n",
            " 0   match   11909 non-null  object \n",
            " 1   rating  0 non-null      float64\n",
            " 2   civ     11909 non-null  object \n",
            " 3   team    11909 non-null  int64  \n",
            "dtypes: float64(1), int64(1), object(2)\n",
            "memory usage: 465.2+ KB\n"
          ]
        }
      ]
    },
    {
      "cell_type": "code",
      "metadata": {
        "colab": {
          "base_uri": "https://localhost:8080/"
        },
        "id": "_K-TidCoXGGJ",
        "outputId": "5e793597-9368-4494-d000-76031d07f00f"
      },
      "source": [
        "affected_matches = matches_1v1.loc[matches_1v1['match_id'].isin(nan_rated_players['match'])]\n",
        "affected_matches.info()"
      ],
      "execution_count": 12,
      "outputs": [
        {
          "output_type": "stream",
          "name": "stdout",
          "text": [
            "<class 'pandas.core.frame.DataFrame'>\n",
            "Int64Index: 6889 entries, 28 to 139967\n",
            "Data columns (total 7 columns):\n",
            " #   Column     Non-Null Count  Dtype  \n",
            "---  ------     --------------  -----  \n",
            " 0   match_id   6889 non-null   object \n",
            " 1   map        6889 non-null   object \n",
            " 2   rating_p1  3348 non-null   float64\n",
            " 3   civ_p1     6889 non-null   object \n",
            " 4   rating_p2  3541 non-null   float64\n",
            " 5   civ_p2     6889 non-null   object \n",
            " 6   winner     6889 non-null   float64\n",
            "dtypes: float64(3), object(4)\n",
            "memory usage: 430.6+ KB\n"
          ]
        }
      ]
    },
    {
      "cell_type": "markdown",
      "metadata": {
        "id": "vNX0Mw-hZzZe"
      },
      "source": [
        "**Option A:** simply omit NaN rated players and affected matches (not chosen)"
      ]
    },
    {
      "cell_type": "code",
      "metadata": {
        "colab": {
          "base_uri": "https://localhost:8080/"
        },
        "id": "ZsgXjKfHHwnn",
        "outputId": "d7dc7248-aec9-437c-f089-c1ae8e79ae40"
      },
      "source": [
        "valid_matches = matches_1v1.loc[~matches_1v1['match_id'].isin(affected_matches['match_id'])]\n",
        "valid_matches.info()"
      ],
      "execution_count": 13,
      "outputs": [
        {
          "output_type": "stream",
          "name": "stdout",
          "text": [
            "<class 'pandas.core.frame.DataFrame'>\n",
            "Int64Index: 133112 entries, 0 to 140000\n",
            "Data columns (total 7 columns):\n",
            " #   Column     Non-Null Count   Dtype  \n",
            "---  ------     --------------   -----  \n",
            " 0   match_id   133112 non-null  object \n",
            " 1   map        133112 non-null  object \n",
            " 2   rating_p1  133112 non-null  float64\n",
            " 3   civ_p1     133112 non-null  object \n",
            " 4   rating_p2  133112 non-null  float64\n",
            " 5   civ_p2     133112 non-null  object \n",
            " 6   winner     133112 non-null  float64\n",
            "dtypes: float64(3), object(4)\n",
            "memory usage: 8.1+ MB\n"
          ]
        }
      ]
    },
    {
      "cell_type": "markdown",
      "metadata": {
        "id": "9cgSmWlZbGXL"
      },
      "source": [
        "**Option B:** estimate NaN ratings with k-nearest-neighbor (not chosen)\n",
        "\n",
        "\n",
        "\n",
        "```\n",
        "matches_knr = valid_matches.sample(1000)\n",
        "nan_knr = KNR(n_neighbors=5, weights=\"distance\")\n",
        "\n",
        "# order of p1 and p2 is arbitrary for training\n",
        "X = matches_knr['rating_p1'].to_numpy()\n",
        "X = np.expand_dims(X, axis=1)\n",
        "y = matches_knr['rating_p2'].to_numpy()\n",
        "nan_knr.fit(X,y)\n",
        "\n",
        "for _, m in tqdm(affected_matches.iterrows()):\n",
        "    if pd.isnull(m['rating_p1']):\n",
        "        m['rating_p1'] = round(nan_knr.predict(np.array(m['rating_p2']).reshape(1, -1))[0])\n",
        "    else:\n",
        "        m['rating_p2'] = round(nan_knr.predict(np.array(m['rating_p1']).reshape(1, -1))[0])\n",
        "    valid_matches = valid_matches.append(m)\n",
        "```\n",
        "\n"
      ]
    },
    {
      "cell_type": "markdown",
      "metadata": {
        "id": "PAvdril7UuE6"
      },
      "source": [
        "Since KNR uses interpolation we overestimate low ratings and underestimate high ratings."
      ]
    },
    {
      "cell_type": "markdown",
      "metadata": {
        "id": "Exbv5XhDz15J"
      },
      "source": [
        "**Option C:** enhance data with some clear matches (chosen)"
      ]
    },
    {
      "cell_type": "code",
      "metadata": {
        "id": "QnQNB069bRvM"
      },
      "source": [
        "from sklearn.neighbors import KNeighborsRegressor as KNR\n",
        "\n",
        "try:\n",
        "    augmented_1v1 = pd.read_csv('augmented_1v1.csv')\n",
        "except:\n",
        "    for _, m in tqdm(affected_matches.iterrows()):\n",
        "        if pd.isnull(m['rating_p1']):\n",
        "            m['rating_p1'] = m['rating_p2'] - 400 if m['winner'] == 2 else m['rating_p2'] + 400\n",
        "        else:\n",
        "            m['rating_p2'] = m['rating_p1'] - 400 if m['winner'] == 1 else m['rating_p1'] + 400\n",
        "        valid_matches = valid_matches.append(m)\n",
        "\n",
        "    # save the result\n",
        "    augmented_1v1 = valid_matches\n",
        "    augmented_1v1.to_csv('augmented_1v1.csv', index=False)"
      ],
      "execution_count": 14,
      "outputs": []
    },
    {
      "cell_type": "code",
      "metadata": {
        "colab": {
          "base_uri": "https://localhost:8080/",
          "height": 463
        },
        "id": "aVdwOOd3KB2i",
        "outputId": "b29b866c-c39c-4a4f-ade0-9809e69b23aa"
      },
      "source": [
        "augmented_1v1.info()\n",
        "augmented_1v1.tail()"
      ],
      "execution_count": 15,
      "outputs": [
        {
          "output_type": "stream",
          "name": "stdout",
          "text": [
            "<class 'pandas.core.frame.DataFrame'>\n",
            "RangeIndex: 140001 entries, 0 to 140000\n",
            "Data columns (total 7 columns):\n",
            " #   Column     Non-Null Count   Dtype  \n",
            "---  ------     --------------   -----  \n",
            " 0   match_id   140001 non-null  object \n",
            " 1   map        140001 non-null  object \n",
            " 2   rating_p1  140001 non-null  float64\n",
            " 3   civ_p1     140001 non-null  object \n",
            " 4   rating_p2  140001 non-null  float64\n",
            " 5   civ_p2     140001 non-null  object \n",
            " 6   winner     140001 non-null  float64\n",
            "dtypes: float64(3), object(4)\n",
            "memory usage: 7.5+ MB\n"
          ]
        },
        {
          "output_type": "execute_result",
          "data": {
            "text/html": [
              "<div>\n",
              "<style scoped>\n",
              "    .dataframe tbody tr th:only-of-type {\n",
              "        vertical-align: middle;\n",
              "    }\n",
              "\n",
              "    .dataframe tbody tr th {\n",
              "        vertical-align: top;\n",
              "    }\n",
              "\n",
              "    .dataframe thead th {\n",
              "        text-align: right;\n",
              "    }\n",
              "</style>\n",
              "<table border=\"1\" class=\"dataframe\">\n",
              "  <thead>\n",
              "    <tr style=\"text-align: right;\">\n",
              "      <th></th>\n",
              "      <th>match_id</th>\n",
              "      <th>map</th>\n",
              "      <th>rating_p1</th>\n",
              "      <th>civ_p1</th>\n",
              "      <th>rating_p2</th>\n",
              "      <th>civ_p2</th>\n",
              "      <th>winner</th>\n",
              "    </tr>\n",
              "  </thead>\n",
              "  <tbody>\n",
              "    <tr>\n",
              "      <th>139996</th>\n",
              "      <td>tHcP50aJitPvqKSC</td>\n",
              "      <td>socotra</td>\n",
              "      <td>816.0</td>\n",
              "      <td>Goths</td>\n",
              "      <td>1216.0</td>\n",
              "      <td>Magyars</td>\n",
              "      <td>2.0</td>\n",
              "    </tr>\n",
              "    <tr>\n",
              "      <th>139997</th>\n",
              "      <td>zq7Eh1sviqiUKija</td>\n",
              "      <td>water_nomad</td>\n",
              "      <td>421.0</td>\n",
              "      <td>Huns</td>\n",
              "      <td>821.0</td>\n",
              "      <td>Japanese</td>\n",
              "      <td>2.0</td>\n",
              "    </tr>\n",
              "    <tr>\n",
              "      <th>139998</th>\n",
              "      <td>OhzqqQj8pZWSavMC</td>\n",
              "      <td>arabia</td>\n",
              "      <td>1134.0</td>\n",
              "      <td>Lithuanians</td>\n",
              "      <td>734.0</td>\n",
              "      <td>Ethiopians</td>\n",
              "      <td>1.0</td>\n",
              "    </tr>\n",
              "    <tr>\n",
              "      <th>139999</th>\n",
              "      <td>uDsBSSyt4KsOxP9e</td>\n",
              "      <td>arena</td>\n",
              "      <td>397.0</td>\n",
              "      <td>Britons</td>\n",
              "      <td>797.0</td>\n",
              "      <td>Magyars</td>\n",
              "      <td>2.0</td>\n",
              "    </tr>\n",
              "    <tr>\n",
              "      <th>140000</th>\n",
              "      <td>U1qjQ92nUNyheogP</td>\n",
              "      <td>arena</td>\n",
              "      <td>445.0</td>\n",
              "      <td>Portuguese</td>\n",
              "      <td>845.0</td>\n",
              "      <td>Britons</td>\n",
              "      <td>2.0</td>\n",
              "    </tr>\n",
              "  </tbody>\n",
              "</table>\n",
              "</div>"
            ],
            "text/plain": [
              "                match_id          map  rating_p1  ... rating_p2      civ_p2 winner\n",
              "139996  tHcP50aJitPvqKSC      socotra      816.0  ...    1216.0     Magyars    2.0\n",
              "139997  zq7Eh1sviqiUKija  water_nomad      421.0  ...     821.0    Japanese    2.0\n",
              "139998  OhzqqQj8pZWSavMC       arabia     1134.0  ...     734.0  Ethiopians    1.0\n",
              "139999  uDsBSSyt4KsOxP9e        arena      397.0  ...     797.0     Magyars    2.0\n",
              "140000  U1qjQ92nUNyheogP        arena      445.0  ...     845.0     Britons    2.0\n",
              "\n",
              "[5 rows x 7 columns]"
            ]
          },
          "metadata": {},
          "execution_count": 15
        }
      ]
    },
    {
      "cell_type": "code",
      "metadata": {
        "colab": {
          "base_uri": "https://localhost:8080/"
        },
        "id": "Qtey_WBovDog",
        "outputId": "99bf52b9-033f-4df1-a526-5ccefd42403b"
      },
      "source": [
        "print(augmented_1v1.cov())\n",
        "print(augmented_1v1.corr())"
      ],
      "execution_count": 16,
      "outputs": [
        {
          "output_type": "stream",
          "name": "stdout",
          "text": [
            "               rating_p1      rating_p2    winner\n",
            "rating_p1  100453.508050   97025.893877 -4.099904\n",
            "rating_p2   97025.893877  103015.923784  6.155102\n",
            "winner         -4.099904       6.155102  0.249995\n",
            "           rating_p1  rating_p2    winner\n",
            "rating_p1   1.000000   0.953790 -0.025872\n",
            "rating_p2   0.953790   1.000000  0.038355\n",
            "winner     -0.025872   0.038355  1.000000\n"
          ]
        }
      ]
    },
    {
      "cell_type": "code",
      "metadata": {
        "colab": {
          "base_uri": "https://localhost:8080/",
          "height": 295
        },
        "id": "5j5FfBNhgcRN",
        "outputId": "17e0c714-d5b2-4405-cef6-d1b38f26cb38"
      },
      "source": [
        "all_ratings = augmented_1v1['rating_p1'].append(augmented_1v1['rating_p2'])\n",
        "n, bins, patches = plt.hist(x=all_ratings, bins=26, alpha=0.7, rwidth=0.85)\n",
        "plt.grid(axis='y', alpha=0.75)\n",
        "plt.xlabel('Rating Ranges')\n",
        "plt.ylabel('Players')\n",
        "plt.title('Rating Distribution')\n",
        "plt.show()"
      ],
      "execution_count": 17,
      "outputs": [
        {
          "output_type": "display_data",
          "data": {
            "image/png": "[encoded data removed]",
            "text/plain": [
              "<Figure size 432x288 with 1 Axes>"
            ]
          },
          "metadata": {
            "needs_background": "light"
          }
        }
      ]
    },
    {
      "cell_type": "markdown",
      "metadata": {
        "id": "fj5zGOZ8jxKX"
      },
      "source": [
        "### 1.5 Normalization (Z-Score, Min-Max)\n",
        "\n",
        "Ratings are distributed asymmetricallyand. Values should be in the range 0 to 1."
      ]
    },
    {
      "cell_type": "markdown",
      "metadata": {
        "id": "M_T49fDYkP-3"
      },
      "source": [
        "**Solution:** standardize ratings considering uneven distribution (z-score)"
      ]
    },
    {
      "cell_type": "code",
      "metadata": {
        "id": "gOvrHXEdkZBt"
      },
      "source": [
        "try:\n",
        "    normalized_1v1 = pd.read_csv('normalized_1v1.csv')\n",
        "except:\n",
        "    rating_mean = all_ratings.mean()\n",
        "    rating_std = all_ratings.std()\n",
        "\n",
        "    standardized_1v1 = augmented_1v1\n",
        "    for i in range(len(augmented_1v1)):\n",
        "        standardized_1v1.at[i, 'rating_p1'] = (augmented_1v1.at[i, 'rating_p1'] - rating_mean) / rating_std\n",
        "        standardized_1v1.at[i, 'rating_p2'] = (augmented_1v1.at[i, 'rating_p2'] - rating_mean) / rating_std\n",
        "\n",
        "    standard_ratings = standardized_1v1['rating_p1'].append(standardized_1v1['rating_p2'])\n",
        "    min = standard_ratings.min()\n",
        "    max = standard_ratings.max()\n",
        "    abs_range = max - min\n",
        "\n",
        "    normalized_1v1 = standardized_1v1\n",
        "    for i in range(len(standardized_1v1)):\n",
        "        normalized_1v1.at[i, 'rating_p1'] = (standardized_1v1.at[i, 'rating_p1'] - min) / abs_range\n",
        "        normalized_1v1.at[i, 'rating_p2'] = (standardized_1v1.at[i, 'rating_p2'] - min) / abs_range\n",
        "\n",
        "    normalized_1v1.to_csv('normalized_1v1.csv', index=False)"
      ],
      "execution_count": 31,
      "outputs": []
    },
    {
      "cell_type": "code",
      "metadata": {
        "colab": {
          "base_uri": "https://localhost:8080/",
          "height": 463
        },
        "id": "Y02q22H7KPFy",
        "outputId": "b9b7e0e0-2a55-4a9c-a395-0f83de22f648"
      },
      "source": [
        "normalized_1v1.info()\n",
        "normalized_1v1.head()"
      ],
      "execution_count": 19,
      "outputs": [
        {
          "output_type": "stream",
          "name": "stdout",
          "text": [
            "<class 'pandas.core.frame.DataFrame'>\n",
            "RangeIndex: 140001 entries, 0 to 140000\n",
            "Data columns (total 7 columns):\n",
            " #   Column     Non-Null Count   Dtype  \n",
            "---  ------     --------------   -----  \n",
            " 0   match_id   140001 non-null  object \n",
            " 1   map        140001 non-null  object \n",
            " 2   rating_p1  140001 non-null  float64\n",
            " 3   civ_p1     140001 non-null  object \n",
            " 4   rating_p2  140001 non-null  float64\n",
            " 5   civ_p2     140001 non-null  object \n",
            " 6   winner     140001 non-null  float64\n",
            "dtypes: float64(3), object(4)\n",
            "memory usage: 7.5+ MB\n"
          ]
        },
        {
          "output_type": "execute_result",
          "data": {
            "text/html": [
              "<div>\n",
              "<style scoped>\n",
              "    .dataframe tbody tr th:only-of-type {\n",
              "        vertical-align: middle;\n",
              "    }\n",
              "\n",
              "    .dataframe tbody tr th {\n",
              "        vertical-align: top;\n",
              "    }\n",
              "\n",
              "    .dataframe thead th {\n",
              "        text-align: right;\n",
              "    }\n",
              "</style>\n",
              "<table border=\"1\" class=\"dataframe\">\n",
              "  <thead>\n",
              "    <tr style=\"text-align: right;\">\n",
              "      <th></th>\n",
              "      <th>match_id</th>\n",
              "      <th>map</th>\n",
              "      <th>rating_p1</th>\n",
              "      <th>civ_p1</th>\n",
              "      <th>rating_p2</th>\n",
              "      <th>civ_p2</th>\n",
              "      <th>winner</th>\n",
              "    </tr>\n",
              "  </thead>\n",
              "  <tbody>\n",
              "    <tr>\n",
              "      <th>0</th>\n",
              "      <td>DdP54WQtNdE0VcwM</td>\n",
              "      <td>migration</td>\n",
              "      <td>0.504802</td>\n",
              "      <td>Vikings</td>\n",
              "      <td>0.500576</td>\n",
              "      <td>Malay</td>\n",
              "      <td>1.0</td>\n",
              "    </tr>\n",
              "    <tr>\n",
              "      <th>1</th>\n",
              "      <td>ChnySMotXQbBOEBm</td>\n",
              "      <td>serengeti</td>\n",
              "      <td>0.488283</td>\n",
              "      <td>Burmese</td>\n",
              "      <td>0.488283</td>\n",
              "      <td>Franks</td>\n",
              "      <td>2.0</td>\n",
              "    </tr>\n",
              "    <tr>\n",
              "      <th>2</th>\n",
              "      <td>2gxTqXARRJB7wX3m</td>\n",
              "      <td>arabia</td>\n",
              "      <td>0.479447</td>\n",
              "      <td>Franks</td>\n",
              "      <td>0.484825</td>\n",
              "      <td>Vietnamese</td>\n",
              "      <td>1.0</td>\n",
              "    </tr>\n",
              "    <tr>\n",
              "      <th>3</th>\n",
              "      <td>JiobK4iAfpqwnc65</td>\n",
              "      <td>arabia</td>\n",
              "      <td>0.434883</td>\n",
              "      <td>Chinese</td>\n",
              "      <td>0.437572</td>\n",
              "      <td>Ethiopians</td>\n",
              "      <td>1.0</td>\n",
              "    </tr>\n",
              "    <tr>\n",
              "      <th>4</th>\n",
              "      <td>92n1BkbfROYsPb7u</td>\n",
              "      <td>arabia</td>\n",
              "      <td>0.450250</td>\n",
              "      <td>Mayans</td>\n",
              "      <td>0.436804</td>\n",
              "      <td>Vietnamese</td>\n",
              "      <td>1.0</td>\n",
              "    </tr>\n",
              "  </tbody>\n",
              "</table>\n",
              "</div>"
            ],
            "text/plain": [
              "           match_id        map  rating_p1  ... rating_p2      civ_p2 winner\n",
              "0  DdP54WQtNdE0VcwM  migration   0.504802  ...  0.500576       Malay    1.0\n",
              "1  ChnySMotXQbBOEBm  serengeti   0.488283  ...  0.488283      Franks    2.0\n",
              "2  2gxTqXARRJB7wX3m     arabia   0.479447  ...  0.484825  Vietnamese    1.0\n",
              "3  JiobK4iAfpqwnc65     arabia   0.434883  ...  0.437572  Ethiopians    1.0\n",
              "4  92n1BkbfROYsPb7u     arabia   0.450250  ...  0.436804  Vietnamese    1.0\n",
              "\n",
              "[5 rows x 7 columns]"
            ]
          },
          "metadata": {},
          "execution_count": 19
        }
      ]
    },
    {
      "cell_type": "markdown",
      "metadata": {
        "id": "JIFoJmHWqM28"
      },
      "source": [
        "### 1.6 One-Hot Encoding\n",
        "Lastly, we also need numeric values for categorical attributes."
      ]
    },
    {
      "cell_type": "code",
      "metadata": {
        "colab": {
          "base_uri": "https://localhost:8080/"
        },
        "id": "lLBHg-WiInvq",
        "outputId": "6fddc560-674c-4d84-9ab6-ab6de7f4ada6"
      },
      "source": [
        "from sklearn.preprocessing import OneHotEncoder\n",
        "\n",
        "maps_ohe = OneHotEncoder(sparse=False)\n",
        "maps = maps_ohe.fit_transform(normalized_1v1['map'].values.reshape(-1, 1))\n",
        "print(maps_ohe.categories_)\n",
        "\n",
        "civs_ohe = OneHotEncoder(sparse=False)\n",
        "civs_ohe.fit(normalized_1v1['civ_p1'].append(normalized_1v1['civ_p2']).values.reshape(-1, 1))\n",
        "\n",
        "civ_p1 = civs_ohe.transform(normalized_1v1['civ_p1'].values.reshape(-1, 1))\n",
        "civ_p2 = civs_ohe.transform(normalized_1v1['civ_p2'].values.reshape(-1, 1))\n",
        "print(civs_ohe.categories_)"
      ],
      "execution_count": 33,
      "outputs": [
        {
          "output_type": "stream",
          "name": "stdout",
          "text": [
            "[array(['acropolis', 'arabia', 'arena', 'cenotes', 'four_lakes',\n",
            "       'ghost_lake', 'gold_rush', 'golden_pit', 'golden_swamp', 'hideout',\n",
            "       'islands', 'megarandom', 'migration', 'mongolia', 'nomad',\n",
            "       'serengeti', 'socotra', 'team_islands', 'valley', 'water_nomad'],\n",
            "      dtype=object)]\n",
            "[array(['Aztecs', 'Berbers', 'Britons', 'Bulgarians', 'Burmese',\n",
            "       'Byzantines', 'Celts', 'Chinese', 'Cumans', 'Ethiopians', 'Franks',\n",
            "       'Goths', 'Huns', 'Incas', 'Indians', 'Italians', 'Japanese',\n",
            "       'Khmer', 'Koreans', 'Lithuanians', 'Magyars', 'Malay', 'Malians',\n",
            "       'Mayans', 'Mongols', 'Persians', 'Portuguese', 'Saracens', 'Slavs',\n",
            "       'Spanish', 'Tatars', 'Teutons', 'Turks', 'Vietnamese', 'Vikings'],\n",
            "      dtype=object)]\n"
          ]
        }
      ]
    },
    {
      "cell_type": "markdown",
      "metadata": {
        "id": "lzZML_6WqYUl"
      },
      "source": [
        "## 2. Linear Models\n",
        "\n",
        "Preparing input vectors and one-hot encoding target labels."
      ]
    },
    {
      "cell_type": "code",
      "metadata": {
        "id": "IRPskZ9poFYv"
      },
      "source": [
        "X = np.concatenate((\n",
        "    maps,\n",
        "    normalized_1v1['rating_p1'].values.reshape(-1, 1),\n",
        "    civ_p1,\n",
        "    normalized_1v1['rating_p2'].values.reshape(-1, 1),\n",
        "    civ_p2\n",
        "    ), axis=1)\n",
        "\n",
        "y = normalized_1v1['winner'].values - 1"
      ],
      "execution_count": 21,
      "outputs": []
    },
    {
      "cell_type": "markdown",
      "metadata": {
        "id": "6ncZedwvApwA"
      },
      "source": [
        "Training and evaluating linear methods."
      ]
    },
    {
      "cell_type": "code",
      "metadata": {
        "id": "eqcnIwtcJj2n"
      },
      "source": [
        "def winner_from_elo(p1, p2):\n",
        "    return 0 if elo_to_win_prob(p1, p2) >= 0.5 else 1"
      ],
      "execution_count": 22,
      "outputs": []
    },
    {
      "cell_type": "code",
      "metadata": {
        "colab": {
          "base_uri": "https://localhost:8080/"
        },
        "id": "mkcoXafQq4XR",
        "outputId": "0b61062e-306e-4b5c-fb03-ebaac9b72e29"
      },
      "source": [
        "#@title\n",
        "from sklearn.linear_model import RidgeClassifier\n",
        "from sklearn.naive_bayes import GaussianNB\n",
        "from sklearn.ensemble import RandomForestClassifier\n",
        "from sklearn.metrics import accuracy_score\n",
        "from sklearn.model_selection import KFold\n",
        "\n",
        "ridge = RidgeClassifier()\n",
        "gnb = GaussianNB()\n",
        "rand_f = RandomForestClassifier()\n",
        "\n",
        "kfold = KFold(n_splits=10)\n",
        "\n",
        "ridge_scores = []\n",
        "gnb_scores = []\n",
        "rand_f_scores = []\n",
        "elo_scores = []\n",
        "\n",
        "for train_index, test_index in kfold.split(X):\n",
        "    print('\\r', \"Training on:\", train_index[0], train_index[-1], \"Testing on:\", test_index[0], test_index[-1], end=' ')\n",
        "    X_train, X_test = X[train_index], X[test_index]\n",
        "    y_train, y_test = y[train_index], y[test_index]\n",
        "\n",
        "    ridge.fit(X_train, y_train)\n",
        "    ridge_scores.append(ridge.score(X_test, y_test))\n",
        "\n",
        "    gnb.fit(X_train, y_train)\n",
        "    gnb_scores.append(gnb.score(X_test, y_test))\n",
        "\n",
        "    rand_f.fit(X_train, y_train)\n",
        "    rand_f_scores.append(rand_f.score(X_test, y_test))\n",
        "    elo_preds = []\n",
        "    for i, x in enumerate(X_test):\n",
        "        elo_preds.append(winner_from_elo(x[20], x[56]))\n",
        "    elo_scores.append(accuracy_score(y_test, elo_preds))"
      ],
      "execution_count": null,
      "outputs": [
        {
          "output_type": "stream",
          "name": "stdout",
          "text": [
            " Training on: 0 126000 Testing on: 126001 140000 "
          ]
        }
      ]
    },
    {
      "cell_type": "code",
      "metadata": {
        "colab": {
          "base_uri": "https://localhost:8080/"
        },
        "id": "y_m7GsCHRr6x",
        "outputId": "634388c5-9da7-44c4-d895-dfc0ce8ac3bb"
      },
      "source": [
        "print('Elo Mean:', '%.5f'%(np.mean(elo_scores)),\n",
        "      'Min:', '%.5f'%(np.min(elo_scores)),\n",
        "      'Max:', '%.5f'%(np.max(elo_scores)))\n",
        "print('Ridge Mean:', '%.5f'%(np.mean(ridge_scores)),\n",
        "      'Min:', '%.5f'%(np.min(ridge_scores)),\n",
        "      'Max:', '%.5f'%(np.max(ridge_scores)))\n",
        "print('GNB Mean:', '%.5f'%(np.mean(gnb_scores)),\n",
        "      'Min:', '%.5f'%(np.min(gnb_scores)),\n",
        "      'Max:', '%.5f'%(np.max(gnb_scores)))\n",
        "print('Random Forest Mean:','%.5f'%(np.mean(rand_f_scores)),\n",
        "      'Min:', '%.5f'%(np.min(rand_f_scores)),\n",
        "      'Max:', '%.5f'%(np.max(rand_f_scores)))"
      ],
      "execution_count": null,
      "outputs": [
        {
          "output_type": "stream",
          "name": "stdout",
          "text": [
            "Elo Mean: 0.51904 Min: 0.47307 Max: 0.74050\n",
            "Ridge Mean: 0.54225 Min: 0.50129 Max: 0.75736\n",
            "GNB Mean: 0.50243 Min: 0.49829 Max: 0.50871\n",
            "Random Forest Mean: 0.50293 Min: 0.44821 Max: 0.51429\n"
          ]
        }
      ]
    },
    {
      "cell_type": "markdown",
      "metadata": {
        "id": "1VSWOafmJYDb"
      },
      "source": [
        "## 3. Non-Linear Model (Feed-Forward Network)\n",
        "\n",
        "Creating a simple model."
      ]
    },
    {
      "cell_type": "code",
      "metadata": {
        "id": "6pHAWkjXJXC6"
      },
      "source": [
        "import torch\n",
        "from torch import optim\n",
        "import torch.nn as nn\n",
        "import torch.nn.functional as F"
      ],
      "execution_count": 23,
      "outputs": []
    },
    {
      "cell_type": "code",
      "metadata": {
        "id": "bKmkryBocxft"
      },
      "source": [
        "class FFNN(nn.Module):\n",
        "    def __init__(self, input_dim, output_dim, hidden_dim, dropout):\n",
        "        super().__init__()\n",
        "        self.linear1 = nn.Linear(input_dim, hidden_dim)\n",
        "        lin2_dim = int(hidden_dim / 2)\n",
        "        self.linear2 = nn.Linear(hidden_dim, lin2_dim)\n",
        "        self.dropout1 = nn.Dropout(dropout)\n",
        "        self.linear3 = nn.Linear(lin2_dim, output_dim)\n",
        "        self.dropout2 = nn.Dropout(dropout)\n",
        "        self.out = nn.Softmax(dim=1)\n",
        "\n",
        "    def forward(self, x):\n",
        "        x = self.linear1(x)\n",
        "        x = F.relu(x)\n",
        "        x = self.linear2(x)\n",
        "        x = self.dropout1(x)\n",
        "        x = F.relu(x)\n",
        "        x = self.linear3(x)\n",
        "        x = self.dropout2(x)\n",
        "        x = F.relu(x)\n",
        "        out = self.out(x)\n",
        "        return out"
      ],
      "execution_count": 24,
      "outputs": []
    },
    {
      "cell_type": "markdown",
      "metadata": {
        "id": "cxcxKzfGjtJ6"
      },
      "source": [
        "Define training and evaluation functions."
      ]
    },
    {
      "cell_type": "code",
      "metadata": {
        "id": "h9kLLrcTGw4o"
      },
      "source": [
        "loss_func = F.cross_entropy\n",
        "\n",
        "def evaluate(model, loader):\n",
        "    model.eval()\n",
        "    losses = []\n",
        "    accs = []\n",
        "\n",
        "    with torch.no_grad():\n",
        "        for inputs, labels in loader:\n",
        "            inputs, labels = inputs.to(device), labels.to(device)\n",
        "            preds = model(inputs)\n",
        "            loss = loss_func(preds, labels)\n",
        "            acc = accuracy(preds, labels)\n",
        "            losses.append(loss / len(inputs))\n",
        "            accs.append(acc)\n",
        "\n",
        "    average_loss = sum(losses) / len(losses)\n",
        "    average_acc = sum(accs) / len(accs)\n",
        "    return average_loss, average_acc\n",
        "            \n",
        "def fit(model, train_loader, test_loader, optimizer, epochs=100, print_every=10):\n",
        "    model.train()\n",
        "    train_losses = []\n",
        "    val_losses = []\n",
        "    accuracies = []\n",
        "\n",
        "    for epoch in tqdm(range(epochs)):\n",
        "        losses = []\n",
        "\n",
        "        for inputs, labels in train_loader:\n",
        "            inputs, labels = inputs.to(device), labels.to(device)\n",
        "            optimizer.zero_grad()\n",
        "            preds = model(inputs)\n",
        "            loss = loss_func(preds, labels)\n",
        "            loss.backward()\n",
        "            optimizer.step()\n",
        "            losses.append(loss.item() / len(inputs))\n",
        "\n",
        "        val_loss, val_acc = evaluate(model, val_loader)\n",
        "        epoch_loss = sum(losses) / len(losses)\n",
        "        if epoch % print_every == 0 or epoch+1 == epochs:\n",
        "            print()\n",
        "            print(f'Epoch #{epoch + 1} ==> Train Loss:','%.5f'%(epoch_loss), 'Val Loss:','%.5f'%(val_loss), '| Val Acc:', '%.5f'%(val_acc))\n",
        "        train_losses.append(epoch_loss)\n",
        "        val_losses.append(val_loss)\n",
        "        accuracies.append(val_acc)\n",
        "    return train_losses, val_losses, accuracies\n",
        "\n",
        "def accuracy(outs, labels):\n",
        "    _, preds = torch.max(outs, dim=1)\n",
        "    return (torch.tensor(torch.sum(preds==labels).item() / len(preds))) * 100"
      ],
      "execution_count": 25,
      "outputs": []
    },
    {
      "cell_type": "markdown",
      "metadata": {
        "id": "jb2rLybdouO_"
      },
      "source": [
        "One-hot encoding targets."
      ]
    },
    {
      "cell_type": "code",
      "metadata": {
        "colab": {
          "base_uri": "https://localhost:8080/"
        },
        "id": "pHm0ASd9uboS",
        "outputId": "a1fc7e05-2e27-43d4-85d0-d79f1e8acdd5"
      },
      "source": [
        "y_one_hot = np.zeros((y.size, 2))\n",
        "y_one_hot[np.arange(y.size), y.astype(int)] = 1\n",
        "print(y_one_hot[:5])"
      ],
      "execution_count": 26,
      "outputs": [
        {
          "output_type": "stream",
          "name": "stdout",
          "text": [
            "[[1. 0.]\n",
            " [0. 1.]\n",
            " [1. 0.]\n",
            " [1. 0.]\n",
            " [1. 0.]]\n"
          ]
        }
      ]
    },
    {
      "cell_type": "markdown",
      "metadata": {
        "id": "r_MNyeaAFinn"
      },
      "source": [
        "Create datasets for training, testing and evaluating."
      ]
    },
    {
      "cell_type": "code",
      "metadata": {
        "id": "5u4NkpeBgAIz"
      },
      "source": [
        "from sklearn.model_selection import train_test_split\n",
        "from torch.utils.data import DataLoader, TensorDataset\n",
        "from torch import Tensor\n",
        "\n",
        "X_train, X_test, y_train, y_test = train_test_split(X, y, test_size=0.2, random_state=1440)\n",
        "X_train, X_val, y_train, y_val = train_test_split(X_train, y_train, test_size=0.125, random_state=1440)\n",
        "\n",
        "device = torch.device('cuda' if torch.cuda.is_available() else 'cpu')\n",
        "\n",
        "train_data = TensorDataset(torch.from_numpy(X_train).type(torch.float), torch.from_numpy(y_train).type(torch.long))\n",
        "test_data = TensorDataset(torch.from_numpy(X_test).type(torch.float), torch.from_numpy(y_test).type(torch.long))\n",
        "val_data = TensorDataset(torch.from_numpy(X_val).type(torch.float), torch.from_numpy(y_val).type(torch.long))\n",
        "\n",
        "batch_size = 128\n",
        "train_loader = DataLoader(train_data, batch_size, shuffle=True)\n",
        "test_loader = DataLoader(test_data, batch_size)\n",
        "val_loader = DataLoader(val_data, batch_size)"
      ],
      "execution_count": 27,
      "outputs": []
    },
    {
      "cell_type": "code",
      "metadata": {
        "id": "EWuFnoIOEqEi"
      },
      "source": [
        "def init_weights(m):\n",
        "    if isinstance(m, nn.Linear):\n",
        "        torch.nn.init.xavier_uniform_(m.weight)\n",
        "        m.bias.data.fill_(0.0)"
      ],
      "execution_count": 28,
      "outputs": []
    },
    {
      "cell_type": "markdown",
      "metadata": {
        "id": "ymZ1baChuqjR"
      },
      "source": [
        "Put the model to work."
      ]
    },
    {
      "cell_type": "code",
      "metadata": {
        "colab": {
          "base_uri": "https://localhost:8080/"
        },
        "id": "ouuvZCNootuf",
        "outputId": "3e5d6b6c-096e-4fce-cc74-5e5af0a90257"
      },
      "source": [
        "input_dim = X_train.shape[1]\n",
        "output_dim = 2\n",
        "hidden_dim = 256\n",
        "dropout = 0.25\n",
        "learning_rate = 0.05\n",
        "\n",
        "model = FFNN(input_dim, output_dim, hidden_dim, dropout).to(device)\n",
        "model.apply(init_weights)\n",
        "print(model)\n",
        "\n",
        "optim = torch.optim.SGD(model.parameters(), lr=learning_rate)\n",
        "train_losses, val_losses, accs = fit(model, train_loader, val_loader, optimizer=optim)"
      ],
      "execution_count": null,
      "outputs": [
        {
          "output_type": "stream",
          "name": "stdout",
          "text": [
            "FFNN(\n",
            "  (linear1): Linear(in_features=92, out_features=256, bias=True)\n",
            "  (linear2): Linear(in_features=256, out_features=128, bias=True)\n",
            "  (dropout1): Dropout(p=0.25, inplace=False)\n",
            "  (linear3): Linear(in_features=128, out_features=2, bias=True)\n",
            "  (dropout2): Dropout(p=0.25, inplace=False)\n",
            "  (out): Softmax(dim=1)\n",
            ")\n"
          ]
        },
        {
          "output_type": "stream",
          "name": "stderr",
          "text": [
            "  1%|          | 1/100 [00:02<03:26,  2.08s/it]"
          ]
        },
        {
          "output_type": "stream",
          "name": "stdout",
          "text": [
            "\n",
            "Epoch #1 ==> Train Loss: 0.00542 Val Loss: 0.00550 | Val Acc: 50.82623\n"
          ]
        },
        {
          "output_type": "stream",
          "name": "stderr",
          "text": [
            " 11%|█         | 11/100 [00:21<02:56,  1.98s/it]"
          ]
        },
        {
          "output_type": "stream",
          "name": "stdout",
          "text": [
            "\n",
            "Epoch #11 ==> Train Loss: 0.00541 Val Loss: 0.00550 | Val Acc: 50.84517\n"
          ]
        },
        {
          "output_type": "stream",
          "name": "stderr",
          "text": [
            " 21%|██        | 21/100 [00:41<02:36,  1.98s/it]"
          ]
        },
        {
          "output_type": "stream",
          "name": "stdout",
          "text": [
            "\n",
            "Epoch #21 ==> Train Loss: 0.00540 Val Loss: 0.00549 | Val Acc: 52.47159\n"
          ]
        },
        {
          "output_type": "stream",
          "name": "stderr",
          "text": [
            " 31%|███       | 31/100 [01:01<02:16,  1.98s/it]"
          ]
        },
        {
          "output_type": "stream",
          "name": "stdout",
          "text": [
            "\n",
            "Epoch #31 ==> Train Loss: 0.00532 Val Loss: 0.00543 | Val Acc: 53.69555\n"
          ]
        },
        {
          "output_type": "stream",
          "name": "stderr",
          "text": [
            " 41%|████      | 41/100 [01:21<01:56,  1.97s/it]"
          ]
        },
        {
          "output_type": "stream",
          "name": "stdout",
          "text": [
            "\n",
            "Epoch #41 ==> Train Loss: 0.00525 Val Loss: 0.00537 | Val Acc: 55.00237\n"
          ]
        },
        {
          "output_type": "stream",
          "name": "stderr",
          "text": [
            " 51%|█████     | 51/100 [01:40<01:36,  1.97s/it]"
          ]
        },
        {
          "output_type": "stream",
          "name": "stdout",
          "text": [
            "\n",
            "Epoch #51 ==> Train Loss: 0.00522 Val Loss: 0.00538 | Val Acc: 54.80824\n"
          ]
        },
        {
          "output_type": "stream",
          "name": "stderr",
          "text": [
            " 61%|██████    | 61/100 [02:00<01:16,  1.96s/it]"
          ]
        },
        {
          "output_type": "stream",
          "name": "stdout",
          "text": [
            "\n",
            "Epoch #61 ==> Train Loss: 0.00520 Val Loss: 0.00538 | Val Acc: 54.74195\n"
          ]
        },
        {
          "output_type": "stream",
          "name": "stderr",
          "text": [
            " 71%|███████   | 71/100 [02:20<00:57,  1.97s/it]"
          ]
        },
        {
          "output_type": "stream",
          "name": "stdout",
          "text": [
            "\n",
            "Epoch #71 ==> Train Loss: 0.00518 Val Loss: 0.00539 | Val Acc: 54.82244\n"
          ]
        },
        {
          "output_type": "stream",
          "name": "stderr",
          "text": [
            " 81%|████████  | 81/100 [02:39<00:37,  1.96s/it]"
          ]
        },
        {
          "output_type": "stream",
          "name": "stdout",
          "text": [
            "\n",
            "Epoch #81 ==> Train Loss: 0.00516 Val Loss: 0.00541 | Val Acc: 54.85559\n"
          ]
        },
        {
          "output_type": "stream",
          "name": "stderr",
          "text": [
            " 91%|█████████ | 91/100 [02:59<00:17,  1.98s/it]"
          ]
        },
        {
          "output_type": "stream",
          "name": "stdout",
          "text": [
            "\n",
            "Epoch #91 ==> Train Loss: 0.00514 Val Loss: 0.00542 | Val Acc: 54.20454\n"
          ]
        },
        {
          "output_type": "stream",
          "name": "stderr",
          "text": [
            "100%|██████████| 100/100 [03:17<00:00,  1.97s/it]"
          ]
        },
        {
          "output_type": "stream",
          "name": "stdout",
          "text": [
            "\n",
            "Epoch #100 ==> Train Loss: 0.00513 Val Loss: 0.00544 | Val Acc: 54.95265\n"
          ]
        },
        {
          "output_type": "stream",
          "name": "stderr",
          "text": [
            "\n"
          ]
        }
      ]
    },
    {
      "cell_type": "code",
      "metadata": {
        "id": "5eB1FFCUWHBJ",
        "colab": {
          "base_uri": "https://localhost:8080/",
          "height": 545
        },
        "outputId": "4b8b5e96-ea07-4f09-fe52-5a9be88b7130"
      },
      "source": [
        "plt.plot(range(len(train_losses)), train_losses, 'b', range(len(val_losses)), val_losses, 'r')\n",
        "plt.title('losses per epoch')\n",
        "plt.show()\n",
        "plt.plot(range(len(accs)), accs, '')\n",
        "plt.title('accuracy per epoch')\n",
        "plt.show()"
      ],
      "execution_count": null,
      "outputs": [
        {
          "output_type": "display_data",
          "data": {
            "image/png": "[encoded data removed]",
            "text/plain": [
              "<Figure size 432x288 with 1 Axes>"
            ]
          },
          "metadata": {
            "needs_background": "light"
          }
        },
        {
          "output_type": "display_data",
          "data": {
            "image/png": "[encoded data removed]",
            "text/plain": [
              "<Figure size 432x288 with 1 Axes>"
            ]
          },
          "metadata": {
            "needs_background": "light"
          }
        }
      ]
    },
    {
      "cell_type": "code",
      "metadata": {
        "id": "TIyooParhaUE",
        "colab": {
          "base_uri": "https://localhost:8080/"
        },
        "outputId": "b5f65636-4f35-4dc6-c2e7-d84eaee49e9f"
      },
      "source": [
        "test_loss, test_acc = evaluate(model, test_loader)\n",
        "print(f'Test Loss:','%.5f'%(test_loss), '| Test Accuracy:', '%.5f'%(test_acc))"
      ],
      "execution_count": null,
      "outputs": [
        {
          "output_type": "stream",
          "name": "stdout",
          "text": [
            "Test Loss: 0.00538 | Test Accuracy: 54.36637\n"
          ]
        }
      ]
    },
    {
      "cell_type": "markdown",
      "metadata": {
        "id": "O1dZgZ_VFC22"
      },
      "source": [
        "Trying to prevent overfitting."
      ]
    },
    {
      "cell_type": "code",
      "metadata": {
        "colab": {
          "base_uri": "https://localhost:8080/"
        },
        "id": "1zMImhqpEFb6",
        "outputId": "3e9a2f5c-b6cf-4c76-fc09-c9cbeb58fd09"
      },
      "source": [
        "input_dim = X_train.shape[1]\n",
        "output_dim = 2\n",
        "hidden_dim = 64\n",
        "dropout = 0.5\n",
        "learning_rate = 0.01\n",
        "\n",
        "small_model = FFNN(input_dim, output_dim, hidden_dim, dropout).to(device)\n",
        "small_model.apply(init_weights)\n",
        "print(small_model)\n",
        "\n",
        "optim = torch.optim.SGD(small_model.parameters(), lr=learning_rate)\n",
        "train_losses, val_losses, accs = fit(small_model, train_loader, val_loader, optimizer=optim, epochs=200, print_every=20)"
      ],
      "execution_count": null,
      "outputs": [
        {
          "output_type": "stream",
          "name": "stdout",
          "text": [
            "FFNN(\n",
            "  (linear1): Linear(in_features=92, out_features=64, bias=True)\n",
            "  (linear2): Linear(in_features=64, out_features=32, bias=True)\n",
            "  (dropout1): Dropout(p=0.5, inplace=False)\n",
            "  (linear3): Linear(in_features=32, out_features=2, bias=True)\n",
            "  (dropout2): Dropout(p=0.5, inplace=False)\n",
            "  (out): Softmax(dim=1)\n",
            ")\n"
          ]
        },
        {
          "output_type": "stream",
          "name": "stderr",
          "text": [
            "  0%|          | 1/200 [00:01<05:02,  1.52s/it]"
          ]
        },
        {
          "output_type": "stream",
          "name": "stdout",
          "text": [
            "\n",
            "Epoch #1 ==> Train Loss: 0.00542 Val Loss: 0.00550 | Val Acc: 49.38684\n"
          ]
        },
        {
          "output_type": "stream",
          "name": "stderr",
          "text": [
            " 10%|█         | 21/200 [00:28<04:10,  1.40s/it]"
          ]
        },
        {
          "output_type": "stream",
          "name": "stdout",
          "text": [
            "\n",
            "Epoch #21 ==> Train Loss: 0.00542 Val Loss: 0.00550 | Val Acc: 49.63542\n"
          ]
        },
        {
          "output_type": "stream",
          "name": "stderr",
          "text": [
            " 20%|██        | 41/200 [00:56<03:34,  1.35s/it]"
          ]
        },
        {
          "output_type": "stream",
          "name": "stdout",
          "text": [
            "\n",
            "Epoch #41 ==> Train Loss: 0.00542 Val Loss: 0.00550 | Val Acc: 50.46401\n"
          ]
        },
        {
          "output_type": "stream",
          "name": "stderr",
          "text": [
            " 30%|███       | 61/200 [01:23<03:06,  1.35s/it]"
          ]
        },
        {
          "output_type": "stream",
          "name": "stdout",
          "text": [
            "\n",
            "Epoch #61 ==> Train Loss: 0.00541 Val Loss: 0.00550 | Val Acc: 51.29735\n"
          ]
        },
        {
          "output_type": "stream",
          "name": "stderr",
          "text": [
            " 40%|████      | 81/200 [01:51<02:44,  1.39s/it]"
          ]
        },
        {
          "output_type": "stream",
          "name": "stdout",
          "text": [
            "\n",
            "Epoch #81 ==> Train Loss: 0.00541 Val Loss: 0.00550 | Val Acc: 51.58854\n"
          ]
        },
        {
          "output_type": "stream",
          "name": "stderr",
          "text": [
            " 50%|█████     | 101/200 [02:19<02:17,  1.39s/it]"
          ]
        },
        {
          "output_type": "stream",
          "name": "stdout",
          "text": [
            "\n",
            "Epoch #101 ==> Train Loss: 0.00541 Val Loss: 0.00549 | Val Acc: 51.69271\n"
          ]
        },
        {
          "output_type": "stream",
          "name": "stderr",
          "text": [
            " 60%|██████    | 121/200 [02:46<01:47,  1.35s/it]"
          ]
        },
        {
          "output_type": "stream",
          "name": "stdout",
          "text": [
            "\n",
            "Epoch #121 ==> Train Loss: 0.00540 Val Loss: 0.00549 | Val Acc: 51.99810\n"
          ]
        },
        {
          "output_type": "stream",
          "name": "stderr",
          "text": [
            " 70%|███████   | 141/200 [03:15<01:23,  1.42s/it]"
          ]
        },
        {
          "output_type": "stream",
          "name": "stdout",
          "text": [
            "\n",
            "Epoch #141 ==> Train Loss: 0.00539 Val Loss: 0.00549 | Val Acc: 52.40294\n"
          ]
        },
        {
          "output_type": "stream",
          "name": "stderr",
          "text": [
            " 80%|████████  | 161/200 [03:45<00:57,  1.49s/it]"
          ]
        },
        {
          "output_type": "stream",
          "name": "stdout",
          "text": [
            "\n",
            "Epoch #161 ==> Train Loss: 0.00538 Val Loss: 0.00548 | Val Acc: 53.01373\n"
          ]
        },
        {
          "output_type": "stream",
          "name": "stderr",
          "text": [
            " 90%|█████████ | 181/200 [04:14<00:26,  1.41s/it]"
          ]
        },
        {
          "output_type": "stream",
          "name": "stdout",
          "text": [
            "\n",
            "Epoch #181 ==> Train Loss: 0.00536 Val Loss: 0.00546 | Val Acc: 53.94650\n"
          ]
        },
        {
          "output_type": "stream",
          "name": "stderr",
          "text": [
            "100%|██████████| 200/200 [04:40<00:00,  1.40s/it]"
          ]
        },
        {
          "output_type": "stream",
          "name": "stdout",
          "text": [
            "\n",
            "Epoch #200 ==> Train Loss: 0.00533 Val Loss: 0.00542 | Val Acc: 54.72538\n"
          ]
        },
        {
          "output_type": "stream",
          "name": "stderr",
          "text": [
            "\n"
          ]
        }
      ]
    },
    {
      "cell_type": "code",
      "metadata": {
        "colab": {
          "base_uri": "https://localhost:8080/",
          "height": 545
        },
        "id": "6j7_GNoMEHPh",
        "outputId": "b4f9b302-7988-468e-80c3-e090f3f896d1"
      },
      "source": [
        "plt.plot(range(len(train_losses)), train_losses, 'b', range(len(val_losses)), val_losses, 'r')\n",
        "plt.title('losses per epoch')\n",
        "plt.show()\n",
        "plt.plot(range(len(accs)), accs, 'g')\n",
        "plt.title('accuracy per epoch')\n",
        "plt.show()"
      ],
      "execution_count": null,
      "outputs": [
        {
          "output_type": "display_data",
          "data": {
            "image/png": "[encoded data removed]",
            "text/plain": [
              "<Figure size 432x288 with 1 Axes>"
            ]
          },
          "metadata": {
            "needs_background": "light"
          }
        },
        {
          "output_type": "display_data",
          "data": {
            "image/png": "[encoded data removed]",
            "text/plain": [
              "<Figure size 432x288 with 1 Axes>"
            ]
          },
          "metadata": {
            "needs_background": "light"
          }
        }
      ]
    },
    {
      "cell_type": "code",
      "metadata": {
        "colab": {
          "base_uri": "https://localhost:8080/"
        },
        "id": "frddgWlPEHPi",
        "outputId": "82b28003-1e67-41fb-a688-5f5d31d5c253"
      },
      "source": [
        "test_loss, test_acc = evaluate(small_model, test_loader)\n",
        "print(f'Test Loss:','%.5f'%(test_loss), '| Test Accuracy:', '%.5f'%(test_acc))"
      ],
      "execution_count": null,
      "outputs": [
        {
          "output_type": "stream",
          "name": "stdout",
          "text": [
            "Test Loss: 0.00534 | Test Accuracy: 54.94041\n"
          ]
        }
      ]
    }
  ]
}