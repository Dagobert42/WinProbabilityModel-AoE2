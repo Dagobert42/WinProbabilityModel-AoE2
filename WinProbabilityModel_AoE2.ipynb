{
  "nbformat": 4,
  "nbformat_minor": 0,
  "metadata": {
    "colab": {
      "name": "WinProbabilityModel-AoE2.ipynb",
      "provenance": [],
      "collapsed_sections": [],
      "authorship_tag": "ABX9TyOuH46GVSsM2cQPdoX5XaK3",
      "include_colab_link": true
    },
    "kernelspec": {
      "name": "python3",
      "display_name": "Python 3"
    },
    "language_info": {
      "name": "python"
    }
  },
  "cells": [
    {
      "cell_type": "markdown",
      "metadata": {
        "id": "view-in-github",
        "colab_type": "text"
      },
      "source": [
        "<a href=\"https://colab.research.google.com/github/Dagobert42/WinProbabilityModel-AoE2/blob/main/WinProbabilityModel_AoE2.ipynb\" target=\"_parent\"><img src=\"https://colab.research.google.com/assets/colab-badge.svg\" alt=\"Open In Colab\"/></a>"
      ]
    },
    {
      "cell_type": "markdown",
      "metadata": {
        "id": "ydHgVoRAEOKX"
      },
      "source": [
        "# A Non-Linear Win Probability Model for Age of Empires II"
      ]
    },
    {
      "cell_type": "markdown",
      "metadata": {
        "id": "wdsVrd9mNywH"
      },
      "source": [
        "- Age of Empires II [\"AoE2\"] is a real-time strategy game set in the middle-ages\n",
        "- players build a base and command units with the goal of defeating each other \n",
        "\n",
        "**Hypothesis:** map and civilisation have non-linear influence on the initial win probabilities of a match\n",
        "\n",
        "**Idea:** compare predictive power of linear and non-linear models\n",
        "\n",
        "This project conforms to Microsoft's [Game Content Usage Rules](https://www.xbox.com/en-us/developers/rules)."
      ]
    },
    {
      "cell_type": "markdown",
      "metadata": {
        "id": "P4w-23YoJzha"
      },
      "source": [
        "## 1. Introduction\n",
        "\n",
        "- players are rated in Elo-system (similar to Chess)\n",
        "- ratings can be converted directly into probability distributions for the outcome of a match between players A and B by:\n",
        "\n",
        "$$wp_{A} = \\frac{1}{1+10 ^{(r_{A} - r_{B}) / t)}}$$\n",
        "\n",
        "cite wikipedia"
      ]
    },
    {
      "cell_type": "code",
      "metadata": {
        "id": "d5D_78JGz3VI"
      },
      "source": [
        "TRANSFER = 200\n",
        "def elo_to_win_prob(r_player, r_opponent):\n",
        "    return 1 / ( 1 + 10**((r_opponent - r_player) / TRANSFER))"
      ],
      "execution_count": 1,
      "outputs": []
    },
    {
      "cell_type": "code",
      "metadata": {
        "colab": {
          "base_uri": "https://localhost:8080/",
          "height": 295
        },
        "id": "g4oUro722Zt2",
        "outputId": "ee4e6b17-4c69-4c46-8774-3a1cdb171f2b"
      },
      "source": [
        "import matplotlib.pyplot as plt\n",
        "\n",
        "player = 1600\n",
        "opponents = range(600, 2600, 100)\n",
        "probs = []\n",
        "for o in opponents:\n",
        "    probs.append(elo_to_win_prob(player, float(o)))\n",
        "plt.plot(opponents, probs)\n",
        "plt.ylabel('win probability')\n",
        "plt.xlabel('opponent elo')\n",
        "plt.title('1600 elo player')\n",
        "plt.show()"
      ],
      "execution_count": 2,
      "outputs": [
        {
          "output_type": "display_data",
          "data": {
            "image/png": "[encoded data removed]",
            "text/plain": [
              "<Figure size 432x288 with 1 Axes>"
            ]
          },
          "metadata": {
            "needs_background": "light"
          }
        }
      ]
    },
    {
      "cell_type": "markdown",
      "metadata": {
        "id": "ubJRw-HFzXCD"
      },
      "source": [
        "## 2. Data Preprocessing\n",
        "\n",
        "The following section is included for purposes of the presentation. \n",
        "\n",
        "Preprocessing has **already been done** and the resulting csv is provided from the corresponding github repository."
      ]
    },
    {
      "cell_type": "code",
      "metadata": {
        "id": "oDA_VHMBG4Hq"
      },
      "source": [
        "# dependencies\n",
        "import numpy as np\n",
        "import pandas as pd\n",
        "import pickle\n",
        "from tqdm import tqdm\n",
        "from IPython.display import clear_output"
      ],
      "execution_count": 3,
      "outputs": []
    },
    {
      "cell_type": "markdown",
      "metadata": {
        "id": "rUgWwRIzQZys"
      },
      "source": [
        "### 1.1 Processing **matches**\n",
        "\n",
        "-   limit to 1v1 matches\n",
        "-   pick a patch (balance changes occur with patches)\n",
        "-   drop unneeded columns"
      ]
    },
    {
      "cell_type": "code",
      "metadata": {
        "colab": {
          "base_uri": "https://localhost:8080/"
        },
        "id": "ehjfrAhWUis7",
        "outputId": "888ec345-f998-4ef6-cdd8-f823765a198b"
      },
      "source": [
        "matches = pd.read_csv('matches.csv')\n",
        "\n",
        "matches = matches.loc[matches['ladder'] == 'RM_1v1']\n",
        "matches['patch'].value_counts()"
      ],
      "execution_count": 4,
      "outputs": [
        {
          "output_type": "execute_result",
          "data": {
            "text/plain": [
              "37906    430742\n",
              "39515    261010\n",
              "36906    249256\n",
              "36202    242339\n",
              "43210    237932\n",
              "40220    222052\n",
              "40874    202466\n",
              "41855    196138\n",
              "35584     97815\n",
              "39284      5936\n",
              "37650      4909\n",
              "42848      2067\n",
              "Name: patch, dtype: int64"
            ]
          },
          "metadata": {},
          "execution_count": 4
        }
      ]
    },
    {
      "cell_type": "code",
      "metadata": {
        "colab": {
          "base_uri": "https://localhost:8080/"
        },
        "id": "0XCFeGPPQbG7",
        "outputId": "b76f29e3-54ca-4324-ac34-c8f659729a45"
      },
      "source": [
        "matches = matches.loc[matches['patch'] == 43210] # most recent patch\n",
        "matches = matches.drop(columns=['patch', 'ladder', 'mirror', 'average_rating', 'map_size', 'num_players', 'server', 'duration'])\n",
        "matches.info()"
      ],
      "execution_count": 5,
      "outputs": [
        {
          "output_type": "stream",
          "name": "stdout",
          "text": [
            "<class 'pandas.core.frame.DataFrame'>\n",
            "Int64Index: 237932 entries, 44 to 3153755\n",
            "Data columns (total 3 columns):\n",
            " #   Column        Non-Null Count   Dtype \n",
            "---  ------        --------------   ----- \n",
            " 0   token         237932 non-null  object\n",
            " 1   winning_team  237932 non-null  int64 \n",
            " 2   map           237932 non-null  object\n",
            "dtypes: int64(1), object(2)\n",
            "memory usage: 7.3+ MB\n"
          ]
        }
      ]
    },
    {
      "cell_type": "markdown",
      "metadata": {
        "id": "96IlklJtyKkx"
      },
      "source": [
        "### 1.2 Processing **players**\n",
        "\n",
        "- remove players with invalid team value (-1)\n",
        "- remove matches with invalid teams\n",
        "- keep only players that were in matches\n",
        "- drop unneeded columns"
      ]
    },
    {
      "cell_type": "code",
      "metadata": {
        "colab": {
          "base_uri": "https://localhost:8080/"
        },
        "id": "07LETPmjepx1",
        "outputId": "0c165fa8-f672-4fb0-b1d1-e48f0487c568"
      },
      "source": [
        "players = pd.read_csv('match_players.csv')\n",
        "\n",
        "invalid_team_players = players.loc[players['team'] == -1]\n",
        "matches = matches.loc[~matches['token'].isin(invalid_team_players['match'])]\n",
        "\n",
        "players = players.loc[players['match'].isin(matches['token'])]\n",
        "players = players.drop(columns=['token', 'color', 'winner'])\n",
        "players.info()"
      ],
      "execution_count": 6,
      "outputs": [
        {
          "output_type": "stream",
          "name": "stdout",
          "text": [
            "<class 'pandas.core.frame.DataFrame'>\n",
            "Int64Index: 475206 entries, 28 to 9732493\n",
            "Data columns (total 4 columns):\n",
            " #   Column  Non-Null Count   Dtype  \n",
            "---  ------  --------------   -----  \n",
            " 0   match   475206 non-null  object \n",
            " 1   rating  463297 non-null  float64\n",
            " 2   civ     475206 non-null  object \n",
            " 3   team    475206 non-null  int64  \n",
            "dtypes: float64(1), int64(1), object(2)\n",
            "memory usage: 18.1+ MB\n"
          ]
        }
      ]
    },
    {
      "cell_type": "markdown",
      "metadata": {
        "id": "mT3A671GbTUU"
      },
      "source": [
        "### 1.3 Merging\n",
        "\n",
        "- merge matches and players into one dataframe\n",
        "- exclude players with invalid team (encodes the winner)\n",
        "\n",
        "This took a very long time (about 3 hours)."
      ]
    },
    {
      "cell_type": "code",
      "metadata": {
        "id": "_Wb3IhMaG8rC",
        "colab": {
          "base_uri": "https://localhost:8080/",
          "height": 525
        },
        "outputId": "6f5119a9-5e6f-4519-d636-91c235ada6ed"
      },
      "source": [
        "try:\n",
        "    # magic load from repo\n",
        "    matches_1v1 = pd.read_csv('matches_1v1.csv')\n",
        "except:\n",
        "    matches_1v1 = pd.DataFrame(columns=['match_id', 'map', 'rating_p1', 'civ_p1', 'rating_p2', 'civ_p2'])\n",
        "\n",
        "    player_dict = players.to_dict('records')\n",
        "\n",
        "    for match in tqdm(matches.to_dict('records')):\n",
        "        p1 = None\n",
        "        p2 = None\n",
        "        for i, player in enumerate(player_dict):\n",
        "            if player['match'] == match['token']:\n",
        "                if player['team'] == 1:\n",
        "                    p1 = player\n",
        "                    p1_i = i\n",
        "                elif player['team'] == 2:\n",
        "                    p2 = player\n",
        "                    p2_i = i\n",
        "            # remove already assigned players\n",
        "            # increase speed gradually\n",
        "            # Question: actually faster?\n",
        "            if p1 and p2:\n",
        "                if p1_i < p2_i:\n",
        "                    player_dict.pop(p2_i)\n",
        "                    player_dict.pop(p1_i)\n",
        "                else:\n",
        "                    player_dict.pop(p1_i)\n",
        "                    player_dict.pop(p2_i)\n",
        "                break\n",
        "\n",
        "        entry = {\n",
        "            'match_id' : match['token'],\n",
        "            'map' : match['map'],\n",
        "            'rating_p1' : p1['rating'],\n",
        "            'civ_p1' : p1['civ'],\n",
        "            'rating_p2' : p2['rating'],\n",
        "            'civ_p2' : p2['civ'],\n",
        "            'winner' : match['winning_team']\n",
        "        }\n",
        "        matches_1v1 = matches_1v1.append(entry, ignore_index=True)\n",
        "    \n",
        "    # save the result\n",
        "    matches_1v1.to_csv('matches_1v1.csv')"
      ],
      "execution_count": 7,
      "outputs": [
        {
          "output_type": "error",
          "ename": "KeyboardInterrupt",
          "evalue": "ignored",
          "traceback": [
            "\u001b[0;31m---------------------------------------------------------------------------\u001b[0m",
            "\u001b[0;31mFileNotFoundError\u001b[0m                         Traceback (most recent call last)",
            "\u001b[0;32m<ipython-input-7-044cdd0d5d8b>\u001b[0m in \u001b[0;36m<module>\u001b[0;34m()\u001b[0m\n\u001b[1;32m      1\u001b[0m \u001b[0;32mtry\u001b[0m\u001b[0;34m:\u001b[0m\u001b[0;34m\u001b[0m\u001b[0;34m\u001b[0m\u001b[0m\n\u001b[0;32m----> 2\u001b[0;31m     \u001b[0mmatches_1v1\u001b[0m \u001b[0;34m=\u001b[0m \u001b[0mpd\u001b[0m\u001b[0;34m.\u001b[0m\u001b[0mread_csv\u001b[0m\u001b[0;34m(\u001b[0m\u001b[0;34m'matches_1v1.csv'\u001b[0m\u001b[0;34m)\u001b[0m\u001b[0;34m\u001b[0m\u001b[0;34m\u001b[0m\u001b[0m\n\u001b[0m\u001b[1;32m      3\u001b[0m \u001b[0;32mexcept\u001b[0m\u001b[0;34m:\u001b[0m\u001b[0;34m\u001b[0m\u001b[0;34m\u001b[0m\u001b[0m\n",
            "\u001b[0;32m/usr/local/lib/python3.7/dist-packages/pandas/io/parsers.py\u001b[0m in \u001b[0;36mread_csv\u001b[0;34m(filepath_or_buffer, sep, delimiter, header, names, index_col, usecols, squeeze, prefix, mangle_dupe_cols, dtype, engine, converters, true_values, false_values, skipinitialspace, skiprows, skipfooter, nrows, na_values, keep_default_na, na_filter, verbose, skip_blank_lines, parse_dates, infer_datetime_format, keep_date_col, date_parser, dayfirst, cache_dates, iterator, chunksize, compression, thousands, decimal, lineterminator, quotechar, quoting, doublequote, escapechar, comment, encoding, dialect, error_bad_lines, warn_bad_lines, delim_whitespace, low_memory, memory_map, float_precision)\u001b[0m\n\u001b[1;32m    687\u001b[0m \u001b[0;34m\u001b[0m\u001b[0m\n\u001b[0;32m--> 688\u001b[0;31m     \u001b[0;32mreturn\u001b[0m \u001b[0m_read\u001b[0m\u001b[0;34m(\u001b[0m\u001b[0mfilepath_or_buffer\u001b[0m\u001b[0;34m,\u001b[0m \u001b[0mkwds\u001b[0m\u001b[0;34m)\u001b[0m\u001b[0;34m\u001b[0m\u001b[0;34m\u001b[0m\u001b[0m\n\u001b[0m\u001b[1;32m    689\u001b[0m \u001b[0;34m\u001b[0m\u001b[0m\n",
            "\u001b[0;32m/usr/local/lib/python3.7/dist-packages/pandas/io/parsers.py\u001b[0m in \u001b[0;36m_read\u001b[0;34m(filepath_or_buffer, kwds)\u001b[0m\n\u001b[1;32m    453\u001b[0m     \u001b[0;31m# Create the parser.\u001b[0m\u001b[0;34m\u001b[0m\u001b[0;34m\u001b[0m\u001b[0;34m\u001b[0m\u001b[0m\n\u001b[0;32m--> 454\u001b[0;31m     \u001b[0mparser\u001b[0m \u001b[0;34m=\u001b[0m \u001b[0mTextFileReader\u001b[0m\u001b[0;34m(\u001b[0m\u001b[0mfp_or_buf\u001b[0m\u001b[0;34m,\u001b[0m \u001b[0;34m**\u001b[0m\u001b[0mkwds\u001b[0m\u001b[0;34m)\u001b[0m\u001b[0;34m\u001b[0m\u001b[0;34m\u001b[0m\u001b[0m\n\u001b[0m\u001b[1;32m    455\u001b[0m \u001b[0;34m\u001b[0m\u001b[0m\n",
            "\u001b[0;32m/usr/local/lib/python3.7/dist-packages/pandas/io/parsers.py\u001b[0m in \u001b[0;36m__init__\u001b[0;34m(self, f, engine, **kwds)\u001b[0m\n\u001b[1;32m    947\u001b[0m \u001b[0;34m\u001b[0m\u001b[0m\n\u001b[0;32m--> 948\u001b[0;31m         \u001b[0mself\u001b[0m\u001b[0;34m.\u001b[0m\u001b[0m_make_engine\u001b[0m\u001b[0;34m(\u001b[0m\u001b[0mself\u001b[0m\u001b[0;34m.\u001b[0m\u001b[0mengine\u001b[0m\u001b[0;34m)\u001b[0m\u001b[0;34m\u001b[0m\u001b[0;34m\u001b[0m\u001b[0m\n\u001b[0m\u001b[1;32m    949\u001b[0m \u001b[0;34m\u001b[0m\u001b[0m\n",
            "\u001b[0;32m/usr/local/lib/python3.7/dist-packages/pandas/io/parsers.py\u001b[0m in \u001b[0;36m_make_engine\u001b[0;34m(self, engine)\u001b[0m\n\u001b[1;32m   1179\u001b[0m         \u001b[0;32mif\u001b[0m \u001b[0mengine\u001b[0m \u001b[0;34m==\u001b[0m \u001b[0;34m\"c\"\u001b[0m\u001b[0;34m:\u001b[0m\u001b[0;34m\u001b[0m\u001b[0;34m\u001b[0m\u001b[0m\n\u001b[0;32m-> 1180\u001b[0;31m             \u001b[0mself\u001b[0m\u001b[0;34m.\u001b[0m\u001b[0m_engine\u001b[0m \u001b[0;34m=\u001b[0m \u001b[0mCParserWrapper\u001b[0m\u001b[0;34m(\u001b[0m\u001b[0mself\u001b[0m\u001b[0;34m.\u001b[0m\u001b[0mf\u001b[0m\u001b[0;34m,\u001b[0m \u001b[0;34m**\u001b[0m\u001b[0mself\u001b[0m\u001b[0;34m.\u001b[0m\u001b[0moptions\u001b[0m\u001b[0;34m)\u001b[0m\u001b[0;34m\u001b[0m\u001b[0;34m\u001b[0m\u001b[0m\n\u001b[0m\u001b[1;32m   1181\u001b[0m         \u001b[0;32melse\u001b[0m\u001b[0;34m:\u001b[0m\u001b[0;34m\u001b[0m\u001b[0;34m\u001b[0m\u001b[0m\n",
            "\u001b[0;32m/usr/local/lib/python3.7/dist-packages/pandas/io/parsers.py\u001b[0m in \u001b[0;36m__init__\u001b[0;34m(self, src, **kwds)\u001b[0m\n\u001b[1;32m   2009\u001b[0m \u001b[0;34m\u001b[0m\u001b[0m\n\u001b[0;32m-> 2010\u001b[0;31m         \u001b[0mself\u001b[0m\u001b[0;34m.\u001b[0m\u001b[0m_reader\u001b[0m \u001b[0;34m=\u001b[0m \u001b[0mparsers\u001b[0m\u001b[0;34m.\u001b[0m\u001b[0mTextReader\u001b[0m\u001b[0;34m(\u001b[0m\u001b[0msrc\u001b[0m\u001b[0;34m,\u001b[0m \u001b[0;34m**\u001b[0m\u001b[0mkwds\u001b[0m\u001b[0;34m)\u001b[0m\u001b[0;34m\u001b[0m\u001b[0;34m\u001b[0m\u001b[0m\n\u001b[0m\u001b[1;32m   2011\u001b[0m         \u001b[0mself\u001b[0m\u001b[0;34m.\u001b[0m\u001b[0munnamed_cols\u001b[0m \u001b[0;34m=\u001b[0m \u001b[0mself\u001b[0m\u001b[0;34m.\u001b[0m\u001b[0m_reader\u001b[0m\u001b[0;34m.\u001b[0m\u001b[0munnamed_cols\u001b[0m\u001b[0;34m\u001b[0m\u001b[0;34m\u001b[0m\u001b[0m\n",
            "\u001b[0;32mpandas/_libs/parsers.pyx\u001b[0m in \u001b[0;36mpandas._libs.parsers.TextReader.__cinit__\u001b[0;34m()\u001b[0m\n",
            "\u001b[0;32mpandas/_libs/parsers.pyx\u001b[0m in \u001b[0;36mpandas._libs.parsers.TextReader._setup_parser_source\u001b[0;34m()\u001b[0m\n",
            "\u001b[0;31mFileNotFoundError\u001b[0m: [Errno 2] No such file or directory: 'matches_1v1.csv'",
            "\nDuring handling of the above exception, another exception occurred:\n",
            "\u001b[0;31mKeyboardInterrupt\u001b[0m                         Traceback (most recent call last)",
            "\u001b[0;32m<ipython-input-7-044cdd0d5d8b>\u001b[0m in \u001b[0;36m<module>\u001b[0;34m()\u001b[0m\n\u001b[1;32m      6\u001b[0m     \u001b[0mplayer_dict\u001b[0m \u001b[0;34m=\u001b[0m \u001b[0mplayers\u001b[0m\u001b[0;34m.\u001b[0m\u001b[0mto_dict\u001b[0m\u001b[0;34m(\u001b[0m\u001b[0;34m'records'\u001b[0m\u001b[0;34m)\u001b[0m\u001b[0;34m\u001b[0m\u001b[0;34m\u001b[0m\u001b[0m\n\u001b[1;32m      7\u001b[0m \u001b[0;34m\u001b[0m\u001b[0m\n\u001b[0;32m----> 8\u001b[0;31m     \u001b[0;32mfor\u001b[0m \u001b[0mmatch\u001b[0m \u001b[0;32min\u001b[0m \u001b[0mtqdm\u001b[0m\u001b[0;34m(\u001b[0m\u001b[0mmatches\u001b[0m\u001b[0;34m.\u001b[0m\u001b[0mto_dict\u001b[0m\u001b[0;34m(\u001b[0m\u001b[0;34m'records'\u001b[0m\u001b[0;34m)\u001b[0m\u001b[0;34m)\u001b[0m\u001b[0;34m:\u001b[0m\u001b[0;34m\u001b[0m\u001b[0;34m\u001b[0m\u001b[0m\n\u001b[0m\u001b[1;32m      9\u001b[0m         \u001b[0mp1\u001b[0m \u001b[0;34m=\u001b[0m \u001b[0;32mNone\u001b[0m\u001b[0;34m\u001b[0m\u001b[0;34m\u001b[0m\u001b[0m\n\u001b[1;32m     10\u001b[0m         \u001b[0mp2\u001b[0m \u001b[0;34m=\u001b[0m \u001b[0;32mNone\u001b[0m\u001b[0;34m\u001b[0m\u001b[0;34m\u001b[0m\u001b[0m\n",
            "\u001b[0;32m/usr/local/lib/python3.7/dist-packages/pandas/core/frame.py\u001b[0m in \u001b[0;36mto_dict\u001b[0;34m(self, orient, into)\u001b[0m\n\u001b[1;32m   1536\u001b[0m             return [\n\u001b[1;32m   1537\u001b[0m                 \u001b[0minto_c\u001b[0m\u001b[0;34m(\u001b[0m\u001b[0;34m(\u001b[0m\u001b[0mk\u001b[0m\u001b[0;34m,\u001b[0m \u001b[0mcom\u001b[0m\u001b[0;34m.\u001b[0m\u001b[0mmaybe_box_datetimelike\u001b[0m\u001b[0;34m(\u001b[0m\u001b[0mv\u001b[0m\u001b[0;34m)\u001b[0m\u001b[0;34m)\u001b[0m \u001b[0;32mfor\u001b[0m \u001b[0mk\u001b[0m\u001b[0;34m,\u001b[0m \u001b[0mv\u001b[0m \u001b[0;32min\u001b[0m \u001b[0mrow\u001b[0m\u001b[0;34m.\u001b[0m\u001b[0mitems\u001b[0m\u001b[0;34m(\u001b[0m\u001b[0;34m)\u001b[0m\u001b[0;34m)\u001b[0m\u001b[0;34m\u001b[0m\u001b[0;34m\u001b[0m\u001b[0m\n\u001b[0;32m-> 1538\u001b[0;31m                 \u001b[0;32mfor\u001b[0m \u001b[0mrow\u001b[0m \u001b[0;32min\u001b[0m \u001b[0mrows\u001b[0m\u001b[0;34m\u001b[0m\u001b[0;34m\u001b[0m\u001b[0m\n\u001b[0m\u001b[1;32m   1539\u001b[0m             ]\n\u001b[1;32m   1540\u001b[0m \u001b[0;34m\u001b[0m\u001b[0m\n",
            "\u001b[0;32m/usr/local/lib/python3.7/dist-packages/pandas/core/frame.py\u001b[0m in \u001b[0;36m<listcomp>\u001b[0;34m(.0)\u001b[0m\n\u001b[1;32m   1536\u001b[0m             return [\n\u001b[1;32m   1537\u001b[0m                 \u001b[0minto_c\u001b[0m\u001b[0;34m(\u001b[0m\u001b[0;34m(\u001b[0m\u001b[0mk\u001b[0m\u001b[0;34m,\u001b[0m \u001b[0mcom\u001b[0m\u001b[0;34m.\u001b[0m\u001b[0mmaybe_box_datetimelike\u001b[0m\u001b[0;34m(\u001b[0m\u001b[0mv\u001b[0m\u001b[0;34m)\u001b[0m\u001b[0;34m)\u001b[0m \u001b[0;32mfor\u001b[0m \u001b[0mk\u001b[0m\u001b[0;34m,\u001b[0m \u001b[0mv\u001b[0m \u001b[0;32min\u001b[0m \u001b[0mrow\u001b[0m\u001b[0;34m.\u001b[0m\u001b[0mitems\u001b[0m\u001b[0;34m(\u001b[0m\u001b[0;34m)\u001b[0m\u001b[0;34m)\u001b[0m\u001b[0;34m\u001b[0m\u001b[0;34m\u001b[0m\u001b[0m\n\u001b[0;32m-> 1538\u001b[0;31m                 \u001b[0;32mfor\u001b[0m \u001b[0mrow\u001b[0m \u001b[0;32min\u001b[0m \u001b[0mrows\u001b[0m\u001b[0;34m\u001b[0m\u001b[0;34m\u001b[0m\u001b[0m\n\u001b[0m\u001b[1;32m   1539\u001b[0m             ]\n\u001b[1;32m   1540\u001b[0m \u001b[0;34m\u001b[0m\u001b[0m\n",
            "\u001b[0;32m/usr/local/lib/python3.7/dist-packages/pandas/core/frame.py\u001b[0m in \u001b[0;36m<genexpr>\u001b[0;34m(.0)\u001b[0m\n\u001b[1;32m   1535\u001b[0m             )\n\u001b[1;32m   1536\u001b[0m             return [\n\u001b[0;32m-> 1537\u001b[0;31m                 \u001b[0minto_c\u001b[0m\u001b[0;34m(\u001b[0m\u001b[0;34m(\u001b[0m\u001b[0mk\u001b[0m\u001b[0;34m,\u001b[0m \u001b[0mcom\u001b[0m\u001b[0;34m.\u001b[0m\u001b[0mmaybe_box_datetimelike\u001b[0m\u001b[0;34m(\u001b[0m\u001b[0mv\u001b[0m\u001b[0;34m)\u001b[0m\u001b[0;34m)\u001b[0m \u001b[0;32mfor\u001b[0m \u001b[0mk\u001b[0m\u001b[0;34m,\u001b[0m \u001b[0mv\u001b[0m \u001b[0;32min\u001b[0m \u001b[0mrow\u001b[0m\u001b[0;34m.\u001b[0m\u001b[0mitems\u001b[0m\u001b[0;34m(\u001b[0m\u001b[0;34m)\u001b[0m\u001b[0;34m)\u001b[0m\u001b[0;34m\u001b[0m\u001b[0;34m\u001b[0m\u001b[0m\n\u001b[0m\u001b[1;32m   1538\u001b[0m                 \u001b[0;32mfor\u001b[0m \u001b[0mrow\u001b[0m \u001b[0;32min\u001b[0m \u001b[0mrows\u001b[0m\u001b[0;34m\u001b[0m\u001b[0;34m\u001b[0m\u001b[0m\n\u001b[1;32m   1539\u001b[0m             ]\n",
            "\u001b[0;32m/usr/local/lib/python3.7/dist-packages/pandas/core/common.py\u001b[0m in \u001b[0;36mmaybe_box_datetimelike\u001b[0;34m(value, dtype)\u001b[0m\n\u001b[1;32m     87\u001b[0m         \u001b[0;32mreturn\u001b[0m \u001b[0mvalue\u001b[0m\u001b[0;34m\u001b[0m\u001b[0;34m\u001b[0m\u001b[0m\n\u001b[1;32m     88\u001b[0m \u001b[0;34m\u001b[0m\u001b[0m\n\u001b[0;32m---> 89\u001b[0;31m     \u001b[0;32mif\u001b[0m \u001b[0misinstance\u001b[0m\u001b[0;34m(\u001b[0m\u001b[0mvalue\u001b[0m\u001b[0;34m,\u001b[0m \u001b[0;34m(\u001b[0m\u001b[0mnp\u001b[0m\u001b[0;34m.\u001b[0m\u001b[0mdatetime64\u001b[0m\u001b[0;34m,\u001b[0m \u001b[0mdatetime\u001b[0m\u001b[0;34m)\u001b[0m\u001b[0;34m)\u001b[0m\u001b[0;34m:\u001b[0m\u001b[0;34m\u001b[0m\u001b[0;34m\u001b[0m\u001b[0m\n\u001b[0m\u001b[1;32m     90\u001b[0m         \u001b[0mvalue\u001b[0m \u001b[0;34m=\u001b[0m \u001b[0mtslibs\u001b[0m\u001b[0;34m.\u001b[0m\u001b[0mTimestamp\u001b[0m\u001b[0;34m(\u001b[0m\u001b[0mvalue\u001b[0m\u001b[0;34m)\u001b[0m\u001b[0;34m\u001b[0m\u001b[0;34m\u001b[0m\u001b[0m\n\u001b[1;32m     91\u001b[0m     \u001b[0;32melif\u001b[0m \u001b[0misinstance\u001b[0m\u001b[0;34m(\u001b[0m\u001b[0mvalue\u001b[0m\u001b[0;34m,\u001b[0m \u001b[0;34m(\u001b[0m\u001b[0mnp\u001b[0m\u001b[0;34m.\u001b[0m\u001b[0mtimedelta64\u001b[0m\u001b[0;34m,\u001b[0m \u001b[0mtimedelta\u001b[0m\u001b[0;34m)\u001b[0m\u001b[0;34m)\u001b[0m\u001b[0;34m:\u001b[0m\u001b[0;34m\u001b[0m\u001b[0;34m\u001b[0m\u001b[0m\n",
            "\u001b[0;31mKeyboardInterrupt\u001b[0m: "
          ]
        }
      ]
    },
    {
      "cell_type": "markdown",
      "metadata": {
        "id": "gh--L5AQqyZ0"
      },
      "source": [
        "**Question for later:** Is deleting players faster in Big O?\n",
        "\n",
        "$O(\\sum_{i=1}^{m} n-2i)$\n",
        "$= O(n-2 + n-4 + ... + n-2m)$\n",
        "\n",
        "Which would still be\n",
        "$O(m*n)$ ?\n",
        "\n",
        "Or would it be $O(n)$ since $m = 2n$?\n"
      ]
    },
    {
      "cell_type": "code",
      "metadata": {
        "id": "EI5Jjd_rHanQ"
      },
      "source": [
        "matches_1v1.info()\n",
        "matches_1v1.head()"
      ],
      "execution_count": null,
      "outputs": []
    },
    {
      "cell_type": "markdown",
      "metadata": {
        "id": "2acgNg9PgcxA"
      },
      "source": [
        "### 1.4 Treating NaN-values (KNN)\n",
        "\n",
        "**Problem:** some ratings are missing"
      ]
    },
    {
      "cell_type": "code",
      "metadata": {
        "id": "ohHkbwe-NE5I"
      },
      "source": [
        "nan_rated_players = players.loc[players['rating'].isna()]\n",
        "nan_rated_players.info()"
      ],
      "execution_count": null,
      "outputs": []
    },
    {
      "cell_type": "markdown",
      "metadata": {
        "id": "LCECMLaqhkqP"
      },
      "source": [
        "Check if any match has 2 NaN rated players."
      ]
    },
    {
      "cell_type": "code",
      "metadata": {
        "id": "_K-TidCoXGGJ"
      },
      "source": [
        "affected_matches = matches_1v1.loc[matches_1v1['match_id'].isin(nan_rated_players['match'])]\n",
        "affected_matches['match_id'].value_counts()[:5]"
      ],
      "execution_count": null,
      "outputs": []
    },
    {
      "cell_type": "markdown",
      "metadata": {
        "id": "vNX0Mw-hZzZe"
      },
      "source": [
        "**Option:** simply omit NaN rated players and affected matches (not chosen)"
      ]
    },
    {
      "cell_type": "code",
      "metadata": {
        "id": "ZsgXjKfHHwnn"
      },
      "source": [
        "valid_matches = matches_1v1.loc[~matches_1v1['match_id'].isin(affected_matches['match_id'])]\n",
        "valid_matches.info()"
      ],
      "execution_count": null,
      "outputs": []
    },
    {
      "cell_type": "markdown",
      "metadata": {
        "id": "9cgSmWlZbGXL"
      },
      "source": [
        "**Solution:** estimate NaN ratings with k-nearest-neighbor"
      ]
    },
    {
      "cell_type": "code",
      "metadata": {
        "id": "QnQNB069bRvM"
      },
      "source": [
        "import time\n",
        "from sklearn.neighbors import KNeighborsRegressor as KNR\n",
        "\n",
        "matches_knr = valid_matches.sample(1000)\n",
        "nan_knr = KNR(n_neighbors=5, weights=\"distance\")\n",
        "\n",
        "# order of p1 and p2 is arbitrary for training\n",
        "X = matches_knr['rating_p1'].to_numpy()\n",
        "X = np.expand_dims(X, axis=1)\n",
        "y = matches_knr['rating_p2'].to_numpy()\n",
        "nan_knr.fit(X,y)\n",
        "\n",
        "for _, m in affected_matches.iterrows():\n",
        "    if pd.isnull(m['rating_p1']):\n",
        "        m['rating_p1'] = round(nan_knr.predict(np.array(m['rating_p2']).reshape(1, -1))[0])\n",
        "    else:\n",
        "        m['rating_p2'] = round(nan_knr.predict(np.array(m['rating_p1']).reshape(1, -1))[0])\n",
        "    valid_matches = valid_matches.append(m)\n",
        "\n",
        "# save the result\n",
        "valid_matches.to_csv('augmented_1v1.csv')\n",
        "valid_matches.info()\n",
        "valid_matches.head()"
      ],
      "execution_count": null,
      "outputs": []
    },
    {
      "cell_type": "markdown",
      "metadata": {
        "id": "PAvdril7UuE6"
      },
      "source": [
        "Since KNR uses interpolation we overestimate low ratings and underestimate high ratings. \n",
        "\n",
        "To solve this we could normalize first over an incomplete dataset."
      ]
    },
    {
      "cell_type": "markdown",
      "metadata": {
        "id": "fj5zGOZ8jxKX"
      },
      "source": [
        "### 1.5 Normalization (Z-Score)\n",
        "\n",
        "**Problem:** ratings are distributed asymmetrically"
      ]
    },
    {
      "cell_type": "code",
      "metadata": {
        "id": "5j5FfBNhgcRN"
      },
      "source": [
        "all_ratings = matches_1v1['rating_p1'].append(matches_1v1['rating_p2'])\n",
        "n, bins, patches = plt.hist(x=all_ratings, bins=30, alpha=0.7, rwidth=0.85)\n",
        "plt.grid(axis='y', alpha=0.75)\n",
        "plt.xlabel('Rating Ranges')\n",
        "plt.ylabel('Players')\n",
        "plt.title('Rating Distribution')\n",
        "plt.show()"
      ],
      "execution_count": null,
      "outputs": []
    },
    {
      "cell_type": "code",
      "metadata": {
        "id": "oYNBUEacTV65"
      },
      "source": [
        "print('rating skew:', all_ratings.skew())"
      ],
      "execution_count": null,
      "outputs": []
    },
    {
      "cell_type": "markdown",
      "metadata": {
        "id": "M_T49fDYkP-3"
      },
      "source": [
        "**Solution:** normalize ratings considering uneven distribution (z-score)"
      ]
    }
  ]
}