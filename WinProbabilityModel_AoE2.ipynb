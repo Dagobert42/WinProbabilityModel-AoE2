{
  "nbformat": 4,
  "nbformat_minor": 0,
  "metadata": {
    "colab": {
      "name": "WinProbabilityModel-AoE2.ipynb",
      "provenance": [],
      "collapsed_sections": [],
      "mount_file_id": "1G6Mqew-kGw-gccXK7XOPHLQblsqELdhN",
      "authorship_tag": "ABX9TyOhrxPADXQPIug+A98jZAlT",
      "include_colab_link": true
    },
    "kernelspec": {
      "display_name": "Python 3",
      "name": "python3"
    },
    "language_info": {
      "name": "python"
    }
  },
  "cells": [
    {
      "cell_type": "markdown",
      "metadata": {
        "id": "view-in-github",
        "colab_type": "text"
      },
      "source": [
        "<a href=\"https://colab.research.google.com/github/Dagobert42/WinProbabilityModel-AoE2/blob/main/WinProbabilityModel_AoE2.ipynb\" target=\"_parent\"><img src=\"https://colab.research.google.com/assets/colab-badge.svg\" alt=\"Open In Colab\"/></a>"
      ]
    },
    {
      "cell_type": "markdown",
      "metadata": {
        "id": "ydHgVoRAEOKX"
      },
      "source": [
        "# A Non-Linear Win Probability Model for Age of Empires II"
      ]
    },
    {
      "cell_type": "markdown",
      "metadata": {
        "id": "wdsVrd9mNywH"
      },
      "source": [
        "- Age of Empires II [\"AoE2\"] is a real-time strategy game set in the middle-ages\n",
        "- players build a base and command units with the goal of defeating each other \n",
        "\n",
        "**Hypothesis:** map and civilisation have non-linear influence on the initial win probabilities of a match\n",
        "\n",
        "**Idea:** compare predictive power of linear and non-linear models\n",
        "\n",
        "This project conforms to Microsoft's [Game Content Usage Rules](https://www.xbox.com/en-us/developers/rules)."
      ]
    },
    {
      "cell_type": "code",
      "metadata": {
        "id": "8hLz9Ll70CY_"
      },
      "source": [
        "import numpy as np\n",
        "import pandas as pd\n",
        "import matplotlib.pyplot as plt\n",
        "from tqdm import tqdm"
      ],
      "execution_count": 15,
      "outputs": []
    },
    {
      "cell_type": "markdown",
      "metadata": {
        "id": "P4w-23YoJzha"
      },
      "source": [
        "## 1. Introduction\n",
        "\n",
        "- players are rated in Elo-system (similar to Chess)\n",
        "- ratings can be converted directly into probability distributions for the outcome of a match between players A and B by:\n",
        "\n",
        "$$wp_{A} = \\frac{1}{1+10 ^{(r_{A} - r_{B}) / t)}}$$\n",
        "\n",
        "TODO: cite wikipedia"
      ]
    },
    {
      "cell_type": "code",
      "metadata": {
        "id": "d5D_78JGz3VI"
      },
      "source": [
        "TRANSFER = 200\n",
        "def elo_to_win_prob(r_player, r_opponent):\n",
        "    return 1 / ( 1 + 10**((r_opponent - r_player) / TRANSFER))"
      ],
      "execution_count": 16,
      "outputs": []
    },
    {
      "cell_type": "code",
      "metadata": {
        "colab": {
          "base_uri": "https://localhost:8080/",
          "height": 295
        },
        "id": "g4oUro722Zt2",
        "outputId": "f84e0a98-8587-4320-ea29-1d6f4bccb768"
      },
      "source": [
        "player = 1600\n",
        "opponents = range(600, 2600, 100)\n",
        "probs = []\n",
        "for o in opponents:\n",
        "    probs.append(elo_to_win_prob(player, float(o)))\n",
        "plt.plot(opponents, probs)\n",
        "plt.ylabel('win probability')\n",
        "plt.xlabel('opponent elo')\n",
        "plt.title('1600 elo player')\n",
        "plt.show()"
      ],
      "execution_count": 78,
      "outputs": [
        {
          "output_type": "display_data",
          "data": {
            "image/png": "[encoded data removed]",
            "text/plain": [
              "<Figure size 432x288 with 1 Axes>"
            ]
          },
          "metadata": {
            "needs_background": "light"
          }
        }
      ]
    },
    {
      "cell_type": "markdown",
      "metadata": {
        "id": "ubJRw-HFzXCD"
      },
      "source": [
        "## 2. Data Preprocessing\n",
        "\n",
        "The following section is included for purposes of the presentation. \n",
        "\n",
        "Preprocessing has **already been done** and the resulting csv is provided from the corresponding github repository."
      ]
    },
    {
      "cell_type": "markdown",
      "metadata": {
        "id": "rUgWwRIzQZys"
      },
      "source": [
        "### 1.1 Processing **matches**\n",
        "\n",
        "-   limit to 1v1 matches\n",
        "-   pick a patch (balance changes occur with patches)\n",
        "-   drop unneeded columns"
      ]
    },
    {
      "cell_type": "code",
      "metadata": {
        "colab": {
          "base_uri": "https://localhost:8080/"
        },
        "id": "ehjfrAhWUis7",
        "outputId": "bbaddfaa-dbbc-4e5b-f513-6c6ec0a58bf0"
      },
      "source": [
        "matches = pd.read_csv('drive/MyDrive/ColabNotebooks/AoeProjectData/matches.csv')\n",
        "\n",
        "matches = matches.loc[matches['ladder'] == 'RM_1v1']\n",
        "matches['patch'].value_counts()"
      ],
      "execution_count": 18,
      "outputs": [
        {
          "output_type": "execute_result",
          "data": {
            "text/plain": [
              "37906    430742\n",
              "39515    261010\n",
              "36906    249256\n",
              "36202    242339\n",
              "43210    237932\n",
              "40220    222052\n",
              "40874    202466\n",
              "41855    196138\n",
              "35584     97815\n",
              "39284      5936\n",
              "37650      4909\n",
              "42848      2067\n",
              "Name: patch, dtype: int64"
            ]
          },
          "metadata": {},
          "execution_count": 18
        }
      ]
    },
    {
      "cell_type": "code",
      "metadata": {
        "colab": {
          "base_uri": "https://localhost:8080/"
        },
        "id": "0XCFeGPPQbG7",
        "outputId": "4b077739-6ae0-4bcf-c314-fe75db35d104"
      },
      "source": [
        "matches = matches.loc[matches['patch'] == 43210] # most recent patch\n",
        "matches = matches.drop(columns=['patch', 'ladder', 'mirror', 'average_rating', 'map_size', 'num_players', 'server', 'duration'])\n",
        "matches.info()\n",
        "matches['winning_team'].value_counts()"
      ],
      "execution_count": 19,
      "outputs": [
        {
          "output_type": "stream",
          "name": "stdout",
          "text": [
            "<class 'pandas.core.frame.DataFrame'>\n",
            "Int64Index: 237932 entries, 44 to 3153755\n",
            "Data columns (total 3 columns):\n",
            " #   Column        Non-Null Count   Dtype \n",
            "---  ------        --------------   ----- \n",
            " 0   token         237932 non-null  object\n",
            " 1   winning_team  237932 non-null  int64 \n",
            " 2   map           237932 non-null  object\n",
            "dtypes: int64(1), object(2)\n",
            "memory usage: 7.3+ MB\n"
          ]
        },
        {
          "output_type": "execute_result",
          "data": {
            "text/plain": [
              " 2    119517\n",
              " 1    118408\n",
              "-1         7\n",
              "Name: winning_team, dtype: int64"
            ]
          },
          "metadata": {},
          "execution_count": 19
        }
      ]
    },
    {
      "cell_type": "markdown",
      "metadata": {
        "id": "96IlklJtyKkx"
      },
      "source": [
        "### 1.2 Processing **players**\n",
        "\n",
        "- remove players with invalid team value (-1)\n",
        "- remove matches with invalid teams\n",
        "- keep only players that were in matches\n",
        "- drop unneeded columns"
      ]
    },
    {
      "cell_type": "code",
      "metadata": {
        "colab": {
          "base_uri": "https://localhost:8080/"
        },
        "id": "07LETPmjepx1",
        "outputId": "cd18ca87-b29a-4b84-877c-94018dbb55e6"
      },
      "source": [
        "players = pd.read_csv('drive/MyDrive/ColabNotebooks/AoeProjectData/match_players.csv')\n",
        "\n",
        "invalid_players = players.loc[players['team'] == -1]\n",
        "matches = matches.loc[~matches['token'].isin(invalid_players['match'])]\n",
        "\n",
        "players = players.loc[players['match'].isin(matches['token'])]\n",
        "players = players.drop(columns=['token', 'color', 'winner'])\n",
        "players.info()\n",
        "players['team'].value_counts()"
      ],
      "execution_count": 20,
      "outputs": [
        {
          "output_type": "stream",
          "name": "stdout",
          "text": [
            "<class 'pandas.core.frame.DataFrame'>\n",
            "Int64Index: 475206 entries, 28 to 9732493\n",
            "Data columns (total 4 columns):\n",
            " #   Column  Non-Null Count   Dtype  \n",
            "---  ------  --------------   -----  \n",
            " 0   match   475206 non-null  object \n",
            " 1   rating  463297 non-null  float64\n",
            " 2   civ     475206 non-null  object \n",
            " 3   team    475206 non-null  int64  \n",
            "dtypes: float64(1), int64(1), object(2)\n",
            "memory usage: 18.1+ MB\n"
          ]
        },
        {
          "output_type": "execute_result",
          "data": {
            "text/plain": [
              "2    237605\n",
              "1    237601\n",
              "Name: team, dtype: int64"
            ]
          },
          "metadata": {},
          "execution_count": 20
        }
      ]
    },
    {
      "cell_type": "markdown",
      "metadata": {
        "id": "mT3A671GbTUU"
      },
      "source": [
        "### 1.3 Merging\n",
        "\n",
        "- merge matches and players into one dataframe\n",
        "- exclude players with invalid team (encodes the winner)\n",
        "\n",
        "This took a very long time (about 3 hours)."
      ]
    },
    {
      "cell_type": "code",
      "metadata": {
        "id": "7XvcchEU0DO1"
      },
      "source": [
        "#TODO: !npx degit Dagobert42/WinProbabilityModel-AoE2/match_data -f"
      ],
      "execution_count": 21,
      "outputs": []
    },
    {
      "cell_type": "code",
      "metadata": {
        "id": "_Wb3IhMaG8rC"
      },
      "source": [
        "try:\n",
        "    matches_1v1 = pd.read_csv('matches_1v1.csv')\n",
        "except:\n",
        "    matches_1v1 = pd.DataFrame(columns=['match_id', 'map', 'rating_p1', 'civ_p1', 'rating_p2', 'civ_p2'])\n",
        "\n",
        "    player_dict = players.to_dict('records')\n",
        "\n",
        "    SAVE_EVERY = 50000\n",
        "    invalid_matches = 0\n",
        "    count = 0\n",
        "    for match in tqdm(matches.to_dict('records')):\n",
        "        p1 = None\n",
        "        p2 = None\n",
        "        for i, player in enumerate(player_dict):\n",
        "            if player['match'] == match['token']:\n",
        "                if player['team'] == 1:\n",
        "                    p1 = player\n",
        "                    p1_i = i\n",
        "                elif player['team'] == 2:\n",
        "                    p2 = player\n",
        "                    p2_i = i\n",
        "            # remove already assigned players\n",
        "            # increase speed gradually\n",
        "            if p1 and p2:\n",
        "                if p1_i < p2_i:\n",
        "                    player_dict.pop(p2_i)\n",
        "                    player_dict.pop(p1_i)\n",
        "                else:\n",
        "                    player_dict.pop(p1_i)\n",
        "                    player_dict.pop(p2_i)\n",
        "                break\n",
        "\n",
        "        if not p1 or not p2:\n",
        "            invalid_matches += 1\n",
        "            continue\n",
        "        else:\n",
        "            entry = {\n",
        "                'match_id' : match['token'],\n",
        "                'map' : match['map'],\n",
        "                'rating_p1' : p1['rating'],\n",
        "                'civ_p1' : p1['civ'],\n",
        "                'rating_p2' : p2['rating'],\n",
        "                'civ_p2' : p2['civ'],\n",
        "                'winner' : match['winning_team']\n",
        "            }\n",
        "            matches_1v1 = matches_1v1.append(entry, ignore_index=True)\n",
        "\n",
        "        if count % SAVE_EVERY == 0:\n",
        "            matches_1v1.to_csv('drive/MyDrive/ColabNotebooks/AoeProjectData/matches_1v1_' + str(count) + '.csv', index=False)\n",
        "        count += 1\n",
        "        \n",
        "    print(invalid_matches, 'matches excluded (at least one player unidentifiable)')\n",
        "    # save the result!\n",
        "    matches_1v1.to_csv('drive/MyDrive/ColabNotebooks/AoeProjectData/matches_1v1.csv', index=False)"
      ],
      "execution_count": 22,
      "outputs": []
    },
    {
      "cell_type": "markdown",
      "metadata": {
        "id": "gh--L5AQqyZ0"
      },
      "source": [
        "**Question for later:** Is deleting players faster in Big O?\n",
        "\n",
        "$O(\\sum_{i=1}^{m} n-2i)$\n",
        "$= O(n-2 + n-4 + ... + n-2m)$\n",
        "\n",
        "Which would still be\n",
        "$O(m*n)$ ?\n",
        "\n",
        "Or would it be $O(n)$ since $m = 2n$?\n"
      ]
    },
    {
      "cell_type": "code",
      "metadata": {
        "colab": {
          "base_uri": "https://localhost:8080/",
          "height": 463
        },
        "id": "EI5Jjd_rHanQ",
        "outputId": "80879f7f-4873-40e3-ea39-5f7fad6ef777"
      },
      "source": [
        "matches_1v1.info()\n",
        "matches_1v1.head()"
      ],
      "execution_count": 23,
      "outputs": [
        {
          "output_type": "stream",
          "name": "stdout",
          "text": [
            "<class 'pandas.core.frame.DataFrame'>\n",
            "RangeIndex: 140001 entries, 0 to 140000\n",
            "Data columns (total 7 columns):\n",
            " #   Column     Non-Null Count   Dtype  \n",
            "---  ------     --------------   -----  \n",
            " 0   match_id   140001 non-null  object \n",
            " 1   map        140001 non-null  object \n",
            " 2   rating_p1  136460 non-null  float64\n",
            " 3   civ_p1     140001 non-null  object \n",
            " 4   rating_p2  136653 non-null  float64\n",
            " 5   civ_p2     140001 non-null  object \n",
            " 6   winner     140001 non-null  float64\n",
            "dtypes: float64(3), object(4)\n",
            "memory usage: 7.5+ MB\n"
          ]
        },
        {
          "output_type": "execute_result",
          "data": {
            "text/html": [
              "<div>\n",
              "<style scoped>\n",
              "    .dataframe tbody tr th:only-of-type {\n",
              "        vertical-align: middle;\n",
              "    }\n",
              "\n",
              "    .dataframe tbody tr th {\n",
              "        vertical-align: top;\n",
              "    }\n",
              "\n",
              "    .dataframe thead th {\n",
              "        text-align: right;\n",
              "    }\n",
              "</style>\n",
              "<table border=\"1\" class=\"dataframe\">\n",
              "  <thead>\n",
              "    <tr style=\"text-align: right;\">\n",
              "      <th></th>\n",
              "      <th>match_id</th>\n",
              "      <th>map</th>\n",
              "      <th>rating_p1</th>\n",
              "      <th>civ_p1</th>\n",
              "      <th>rating_p2</th>\n",
              "      <th>civ_p2</th>\n",
              "      <th>winner</th>\n",
              "    </tr>\n",
              "  </thead>\n",
              "  <tbody>\n",
              "    <tr>\n",
              "      <th>0</th>\n",
              "      <td>DdP54WQtNdE0VcwM</td>\n",
              "      <td>migration</td>\n",
              "      <td>1343.0</td>\n",
              "      <td>Vikings</td>\n",
              "      <td>1332.0</td>\n",
              "      <td>Malay</td>\n",
              "      <td>1.0</td>\n",
              "    </tr>\n",
              "    <tr>\n",
              "      <th>1</th>\n",
              "      <td>ChnySMotXQbBOEBm</td>\n",
              "      <td>serengeti</td>\n",
              "      <td>1300.0</td>\n",
              "      <td>Burmese</td>\n",
              "      <td>1300.0</td>\n",
              "      <td>Franks</td>\n",
              "      <td>2.0</td>\n",
              "    </tr>\n",
              "    <tr>\n",
              "      <th>2</th>\n",
              "      <td>2gxTqXARRJB7wX3m</td>\n",
              "      <td>arabia</td>\n",
              "      <td>1277.0</td>\n",
              "      <td>Franks</td>\n",
              "      <td>1291.0</td>\n",
              "      <td>Vietnamese</td>\n",
              "      <td>1.0</td>\n",
              "    </tr>\n",
              "    <tr>\n",
              "      <th>3</th>\n",
              "      <td>JiobK4iAfpqwnc65</td>\n",
              "      <td>arabia</td>\n",
              "      <td>1161.0</td>\n",
              "      <td>Chinese</td>\n",
              "      <td>1168.0</td>\n",
              "      <td>Ethiopians</td>\n",
              "      <td>1.0</td>\n",
              "    </tr>\n",
              "    <tr>\n",
              "      <th>4</th>\n",
              "      <td>92n1BkbfROYsPb7u</td>\n",
              "      <td>arabia</td>\n",
              "      <td>1201.0</td>\n",
              "      <td>Mayans</td>\n",
              "      <td>1166.0</td>\n",
              "      <td>Vietnamese</td>\n",
              "      <td>1.0</td>\n",
              "    </tr>\n",
              "  </tbody>\n",
              "</table>\n",
              "</div>"
            ],
            "text/plain": [
              "           match_id        map  rating_p1  ... rating_p2      civ_p2 winner\n",
              "0  DdP54WQtNdE0VcwM  migration     1343.0  ...    1332.0       Malay    1.0\n",
              "1  ChnySMotXQbBOEBm  serengeti     1300.0  ...    1300.0      Franks    2.0\n",
              "2  2gxTqXARRJB7wX3m     arabia     1277.0  ...    1291.0  Vietnamese    1.0\n",
              "3  JiobK4iAfpqwnc65     arabia     1161.0  ...    1168.0  Ethiopians    1.0\n",
              "4  92n1BkbfROYsPb7u     arabia     1201.0  ...    1166.0  Vietnamese    1.0\n",
              "\n",
              "[5 rows x 7 columns]"
            ]
          },
          "metadata": {},
          "execution_count": 23
        }
      ]
    },
    {
      "cell_type": "markdown",
      "metadata": {
        "id": "2acgNg9PgcxA"
      },
      "source": [
        "### 1.4 Treating NaN-values (KNN)\n",
        "\n",
        "**Problem:** some ratings are missing"
      ]
    },
    {
      "cell_type": "code",
      "metadata": {
        "colab": {
          "base_uri": "https://localhost:8080/"
        },
        "id": "ohHkbwe-NE5I",
        "outputId": "20819ebe-6807-4bd9-abc3-df963911360c"
      },
      "source": [
        "nan_rated_players = players.loc[players['rating'].isna()]\n",
        "nan_rated_players.info()"
      ],
      "execution_count": 24,
      "outputs": [
        {
          "output_type": "stream",
          "name": "stdout",
          "text": [
            "<class 'pandas.core.frame.DataFrame'>\n",
            "Int64Index: 11909 entries, 7928 to 9732490\n",
            "Data columns (total 4 columns):\n",
            " #   Column  Non-Null Count  Dtype  \n",
            "---  ------  --------------  -----  \n",
            " 0   match   11909 non-null  object \n",
            " 1   rating  0 non-null      float64\n",
            " 2   civ     11909 non-null  object \n",
            " 3   team    11909 non-null  int64  \n",
            "dtypes: float64(1), int64(1), object(2)\n",
            "memory usage: 465.2+ KB\n"
          ]
        }
      ]
    },
    {
      "cell_type": "code",
      "metadata": {
        "colab": {
          "base_uri": "https://localhost:8080/"
        },
        "id": "_K-TidCoXGGJ",
        "outputId": "b968bbd4-c486-462c-a77a-78eb211f5ab3"
      },
      "source": [
        "affected_matches = matches_1v1.loc[matches_1v1['match_id'].isin(nan_rated_players['match'])]\n",
        "affected_matches.info()"
      ],
      "execution_count": 25,
      "outputs": [
        {
          "output_type": "stream",
          "name": "stdout",
          "text": [
            "<class 'pandas.core.frame.DataFrame'>\n",
            "Int64Index: 6889 entries, 28 to 139967\n",
            "Data columns (total 7 columns):\n",
            " #   Column     Non-Null Count  Dtype  \n",
            "---  ------     --------------  -----  \n",
            " 0   match_id   6889 non-null   object \n",
            " 1   map        6889 non-null   object \n",
            " 2   rating_p1  3348 non-null   float64\n",
            " 3   civ_p1     6889 non-null   object \n",
            " 4   rating_p2  3541 non-null   float64\n",
            " 5   civ_p2     6889 non-null   object \n",
            " 6   winner     6889 non-null   float64\n",
            "dtypes: float64(3), object(4)\n",
            "memory usage: 430.6+ KB\n"
          ]
        }
      ]
    },
    {
      "cell_type": "markdown",
      "metadata": {
        "id": "vNX0Mw-hZzZe"
      },
      "source": [
        "**Option:** simply omit NaN rated players and affected matches (not chosen)"
      ]
    },
    {
      "cell_type": "code",
      "metadata": {
        "colab": {
          "base_uri": "https://localhost:8080/"
        },
        "id": "ZsgXjKfHHwnn",
        "outputId": "cd220a52-58f1-4dc7-986a-f5da839fc4a1"
      },
      "source": [
        "valid_matches = matches_1v1.loc[~matches_1v1['match_id'].isin(affected_matches['match_id'])]\n",
        "valid_matches.info()"
      ],
      "execution_count": 26,
      "outputs": [
        {
          "output_type": "stream",
          "name": "stdout",
          "text": [
            "<class 'pandas.core.frame.DataFrame'>\n",
            "Int64Index: 133112 entries, 0 to 140000\n",
            "Data columns (total 7 columns):\n",
            " #   Column     Non-Null Count   Dtype  \n",
            "---  ------     --------------   -----  \n",
            " 0   match_id   133112 non-null  object \n",
            " 1   map        133112 non-null  object \n",
            " 2   rating_p1  133112 non-null  float64\n",
            " 3   civ_p1     133112 non-null  object \n",
            " 4   rating_p2  133112 non-null  float64\n",
            " 5   civ_p2     133112 non-null  object \n",
            " 6   winner     133112 non-null  float64\n",
            "dtypes: float64(3), object(4)\n",
            "memory usage: 8.1+ MB\n"
          ]
        }
      ]
    },
    {
      "cell_type": "markdown",
      "metadata": {
        "id": "9cgSmWlZbGXL"
      },
      "source": [
        "**Solution:** estimate NaN ratings with k-nearest-neighbor"
      ]
    },
    {
      "cell_type": "code",
      "metadata": {
        "id": "QnQNB069bRvM"
      },
      "source": [
        "from sklearn.neighbors import KNeighborsRegressor as KNR\n",
        "\n",
        "try:\n",
        "    augmented_1v1 = pd.read_csv('augmented_1v1.csv')\n",
        "except:\n",
        "    matches_knr = valid_matches.sample(1000)\n",
        "    nan_knr = KNR(n_neighbors=5, weights=\"distance\")\n",
        "\n",
        "    # order of p1 and p2 is arbitrary for training\n",
        "    X = matches_knr['rating_p1'].to_numpy()\n",
        "    X = np.expand_dims(X, axis=1)\n",
        "    y = matches_knr['rating_p2'].to_numpy()\n",
        "    nan_knr.fit(X,y)\n",
        "\n",
        "    for _, m in tqdm(affected_matches.iterrows()):\n",
        "        if pd.isnull(m['rating_p1']):\n",
        "            m['rating_p1'] = round(nan_knr.predict(np.array(m['rating_p2']).reshape(1, -1))[0])\n",
        "        else:\n",
        "            m['rating_p2'] = round(nan_knr.predict(np.array(m['rating_p1']).reshape(1, -1))[0])\n",
        "        valid_matches = valid_matches.append(m)\n",
        "\n",
        "    # save the result\n",
        "    valid_matches.to_csv('augmented_1v1.csv', index=False)\n",
        "    valid_matches.info()\n",
        "    valid_matches.head()"
      ],
      "execution_count": 65,
      "outputs": []
    },
    {
      "cell_type": "markdown",
      "metadata": {
        "id": "PAvdril7UuE6"
      },
      "source": [
        "Since KNR uses interpolation we overestimate low ratings and underestimate high ratings."
      ]
    },
    {
      "cell_type": "markdown",
      "metadata": {
        "id": "fj5zGOZ8jxKX"
      },
      "source": [
        "### 1.5 Normalization (Z-Score)\n",
        "\n",
        "**Problem:** ratings are distributed asymmetrically"
      ]
    },
    {
      "cell_type": "code",
      "metadata": {
        "colab": {
          "base_uri": "https://localhost:8080/",
          "height": 295
        },
        "id": "5j5FfBNhgcRN",
        "outputId": "b7dc8ef2-54e6-490e-b103-ccf620eade98"
      },
      "source": [
        "all_ratings = augmented_1v1['rating_p1'].append(augmented_1v1['rating_p2'])\n",
        "n, bins, patches = plt.hist(x=all_ratings, bins=26, alpha=0.7, rwidth=0.85)\n",
        "plt.grid(axis='y', alpha=0.75)\n",
        "plt.xlabel('Rating Ranges')\n",
        "plt.ylabel('Players')\n",
        "plt.title('Rating Distribution')\n",
        "plt.show()"
      ],
      "execution_count": 28,
      "outputs": [
        {
          "output_type": "display_data",
          "data": {
            "image/png": "[encoded data removed]",
            "text/plain": [
              "<Figure size 432x288 with 1 Axes>"
            ]
          },
          "metadata": {
            "needs_background": "light"
          }
        }
      ]
    },
    {
      "cell_type": "code",
      "metadata": {
        "colab": {
          "base_uri": "https://localhost:8080/"
        },
        "id": "oYNBUEacTV65",
        "outputId": "97de13c4-6266-48c4-d658-96e9ce68d278"
      },
      "source": [
        "print('rating skew:', all_ratings.skew())"
      ],
      "execution_count": 29,
      "outputs": [
        {
          "output_type": "stream",
          "name": "stdout",
          "text": [
            "rating skew: 0.8488769209625611\n"
          ]
        }
      ]
    },
    {
      "cell_type": "markdown",
      "metadata": {
        "id": "M_T49fDYkP-3"
      },
      "source": [
        "**Solution:** normalize ratings considering uneven distribution (z-score)"
      ]
    },
    {
      "cell_type": "code",
      "metadata": {
        "id": "gOvrHXEdkZBt"
      },
      "source": [
        "try:\n",
        "    normalized_1v1 = pd.read_csv('normalized_1v1.csv')\n",
        "except:\n",
        "    rating_mean = all_ratings.mean()\n",
        "    rating_std = all_ratings.std()\n",
        "\n",
        "    normalized_1v1 = augmented_1v1\n",
        "    for i in range(len(normalized_1v1)):\n",
        "        normalized_1v1.at[i, 'rating_p1'] = (augmented_1v1.at[i, 'rating_p1'] - rating_mean) / rating_std\n",
        "        normalized_1v1.at[i, 'rating_p2'] = (augmented_1v1.at[i, 'rating_p2'] - rating_mean) / rating_std\n",
        "\n",
        "    normalized_1v1.to_csv('normalized_1v1.csv', index=False)\n",
        "    normalized_1v1.info()\n",
        "    normalized_1v1.head()"
      ],
      "execution_count": 96,
      "outputs": []
    },
    {
      "cell_type": "markdown",
      "metadata": {
        "id": "JIFoJmHWqM28"
      },
      "source": [
        "### 1.6 One-Hot Encoding\n",
        "Lastly, we also need numeric values for categorical attributes."
      ]
    },
    {
      "cell_type": "code",
      "metadata": {
        "colab": {
          "base_uri": "https://localhost:8080/"
        },
        "id": "lLBHg-WiInvq",
        "outputId": "7086dab4-2f35-45dd-b3d5-9bcf2100635c"
      },
      "source": [
        "from sklearn.preprocessing import OneHotEncoder\n",
        "\n",
        "maps_ohe = OneHotEncoder(sparse=False)\n",
        "maps = maps_ohe.fit_transform(normalized_1v1['map'].values.reshape(-1, 1))\n",
        "\n",
        "civs_ohe = OneHotEncoder(sparse=False)\n",
        "civs_ohe.fit(players['civ'].values.reshape(-1, 1))\n",
        "\n",
        "civ_p1 = civs_ohe.transform(normalized_1v1['civ_p1'].values.reshape(-1, 1))\n",
        "civ_p2 = civs_ohe.transform(normalized_1v1['civ_p2'].values.reshape(-1, 1))"
      ],
      "execution_count": 50,
      "outputs": [
        {
          "output_type": "stream",
          "name": "stdout",
          "text": [
            "[[0. 0. 0. 0. 0. 0. 0. 0. 0. 0. 0. 0. 1. 0. 0. 0. 0. 0. 0. 0.]\n",
            " [0. 0. 0. 0. 0. 0. 0. 0. 0. 0. 0. 0. 0. 0. 0. 1. 0. 0. 0. 0.]\n",
            " [0. 1. 0. 0. 0. 0. 0. 0. 0. 0. 0. 0. 0. 0. 0. 0. 0. 0. 0. 0.]\n",
            " [0. 1. 0. 0. 0. 0. 0. 0. 0. 0. 0. 0. 0. 0. 0. 0. 0. 0. 0. 0.]\n",
            " [0. 1. 0. 0. 0. 0. 0. 0. 0. 0. 0. 0. 0. 0. 0. 0. 0. 0. 0. 0.]]\n"
          ]
        }
      ]
    },
    {
      "cell_type": "markdown",
      "metadata": {
        "id": "lzZML_6WqYUl"
      },
      "source": [
        "## 2. Linear Models\n",
        "\n",
        "Prepare data as numpy arrays"
      ]
    },
    {
      "cell_type": "code",
      "metadata": {
        "id": "IRPskZ9poFYv"
      },
      "source": [
        "X = np.concatenate((\n",
        "    maps,\n",
        "    normalized_1v1['rating_p1'].values.reshape(-1, 1),\n",
        "    civ_p1,\n",
        "    normalized_1v1['rating_p2'].values.reshape(-1, 1),\n",
        "    civ_p2\n",
        "    ), axis=1)\n",
        "y = normalized_1v1['winner'].values"
      ],
      "execution_count": 72,
      "outputs": []
    },
    {
      "cell_type": "code",
      "metadata": {
        "colab": {
          "base_uri": "https://localhost:8080/"
        },
        "id": "mkcoXafQq4XR",
        "outputId": "899646e3-e0b1-4505-ce50-91852ef2e717"
      },
      "source": [
        "from sklearn import linear_model\n",
        "\n",
        "lin_reg = linear_model.LinearRegression()\n",
        "lin_reg.fit(X, y)\n",
        "print('Lin Reg Score:', lin_reg.score(X[:10000], y[:10000]))\n",
        "\n",
        "ridge = linear_model.Ridge()\n",
        "ridge.fit(X, y)\n",
        "print('Ridge Score:', ridge.score(X[:10000], y[:10000]))\n",
        "\n",
        "bay_ridge = linear_model.BayesianRidge()\n",
        "bay_ridge.fit(X, y)\n",
        "print('Bayesian Ridge Score:', bay_ridge.score(X[:10000], y[:10000]))"
      ],
      "execution_count": 112,
      "outputs": [
        {
          "output_type": "stream",
          "name": "stdout",
          "text": [
            "Lin Reg Score: 0.007086050427686729\n",
            "Ridge Score: 0.007084238441593228\n",
            "Bayesian Ridge Score: 0.006507175308799961\n"
          ]
        }
      ]
    }
  ]
}