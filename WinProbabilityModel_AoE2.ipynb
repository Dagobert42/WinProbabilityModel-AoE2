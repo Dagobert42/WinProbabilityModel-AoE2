{
  "nbformat": 4,
  "nbformat_minor": 0,
  "metadata": {
    "colab": {
      "name": "WinProbabilityModel-AoE2.ipynb",
      "provenance": [],
      "collapsed_sections": [],
      "authorship_tag": "ABX9TyNb/y2bMc4kbMiSCgeZGaA1",
      "include_colab_link": true
    },
    "kernelspec": {
      "name": "python3",
      "display_name": "Python 3"
    },
    "language_info": {
      "name": "python"
    }
  },
  "cells": [
    {
      "cell_type": "markdown",
      "metadata": {
        "id": "view-in-github",
        "colab_type": "text"
      },
      "source": [
        "<a href=\"https://colab.research.google.com/github/Dagobert42/WinProbabilityModel-AoE2/blob/main/WinProbabilityModel_AoE2.ipynb\" target=\"_parent\"><img src=\"https://colab.research.google.com/assets/colab-badge.svg\" alt=\"Open In Colab\"/></a>"
      ]
    },
    {
      "cell_type": "markdown",
      "metadata": {
        "id": "P4w-23YoJzha"
      },
      "source": [
        "# A Non-Linear Win Probability Model for Age of Empires II\n",
        "\n",
        "Age of Empires II [\"AoE2\"] is a real-time strategy game set in the middle-ages. Players have to build a base and command units with the goal of defeating each other in matches of up to 8 players. When participating in AoE2’s competitive online-multiplayer they are rated with an Elo rating system not unlike Chess. This rating gives a good idea of the current form of a player and the rating difference can be converted directly into probability distributions for the outcome of a match or series between players."
      ]
    },
    {
      "cell_type": "markdown",
      "metadata": {
        "id": "dq2q3wSYNwaL"
      },
      "source": [
        "Rating conversion example"
      ]
    },
    {
      "cell_type": "markdown",
      "metadata": {
        "id": "wdsVrd9mNywH"
      },
      "source": [
        "The game was designed for different strategies to work well with certain civs and for civs to have bonuses on specific maps and disadvantages on others, similarly players may favour a certain map due to their experience or personal play style. The goal of this project is to give a model capable of predicting in a meaningful way the outcome of matches played on the one-versus-one random map ladder [\"RM_1v1\"].\n",
        "The project conforms to Microsoft's [Game Content Usage Rules](https://www.xbox.com/en-us/developers/rules)."
      ]
    },
    {
      "cell_type": "code",
      "metadata": {
        "id": "oDA_VHMBG4Hq"
      },
      "source": [
        "import numpy as np\n",
        "import pandas as pd\n",
        "import pickle\n",
        "from tqdm import tqdm\n",
        "from IPython.display import clear_output"
      ],
      "execution_count": 1,
      "outputs": []
    },
    {
      "cell_type": "code",
      "metadata": {
        "colab": {
          "base_uri": "https://localhost:8080/"
        },
        "id": "SWdkvf1xN8wJ",
        "outputId": "fe79e5f6-40f2-4b05-8f51-4b80f5ed8045"
      },
      "source": [
        "matches = pd.read_csv('matches.csv')\n",
        "players = pd.read_csv('match_players.csv')\n",
        "\n",
        "# we will only consider 1v1 matches from the patch with the most examples\n",
        "matches = matches.loc[matches['ladder'] == 'RM_1v1']\n",
        "matches = matches.loc[matches['patch'] == 37906]\n",
        "\n",
        "# some players have a NaN rating, so we exclude them\n",
        "invalid_players = players.loc[players['rating'].isna()]\n",
        "players = players.loc[players['rating'].notna()]\n",
        "\n",
        "# matches of players with NaN ratings are treated the same way\n",
        "matches = matches.loc[~matches['token'].isin(invalid_players['match'])]\n",
        "players = players.loc[players['match'].isin(matches['token'])]\n",
        "\n",
        "# TODO!!!!\n",
        "\n",
        "# finally all unneeded information is dropped from both frames\n",
        "matches = matches.drop(columns=['patch', 'ladder', 'mirror', 'average_rating', 'map_size', 'num_players', 'server', 'duration'])\n",
        "players = players.drop(columns=['token', 'color', 'winner'])\n",
        "\n",
        "print(matches.info())\n",
        "print(matches.head())\n",
        "print(players.info())\n",
        "print(players.head())"
      ],
      "execution_count": 2,
      "outputs": [
        {
          "output_type": "stream",
          "name": "stderr",
          "text": [
            "/usr/local/lib/python3.7/dist-packages/IPython/core/interactiveshell.py:2718: DtypeWarning: Columns (2) have mixed types.Specify dtype option on import or set low_memory=False.\n",
            "  interactivity=interactivity, compiler=compiler, result=result)\n",
            "/usr/local/lib/python3.7/dist-packages/IPython/core/interactiveshell.py:2718: DtypeWarning: Columns (6) have mixed types.Specify dtype option on import or set low_memory=False.\n",
            "  interactivity=interactivity, compiler=compiler, result=result)\n"
          ]
        },
        {
          "output_type": "stream",
          "name": "stdout",
          "text": [
            "<class 'pandas.core.frame.DataFrame'>\n",
            "Int64Index: 139046 entries, 4 to 1306128\n",
            "Data columns (total 3 columns):\n",
            " #   Column        Non-Null Count   Dtype \n",
            "---  ------        --------------   ----- \n",
            " 0   token         139046 non-null  object\n",
            " 1   winning_team  139046 non-null  int64 \n",
            " 2   map           139046 non-null  object\n",
            "dtypes: int64(1), object(2)\n",
            "memory usage: 4.2+ MB\n",
            "None\n",
            "               token  winning_team        map\n",
            "4   U198Wdc3kzJPBVqh             1  acropolis\n",
            "5   NM6127b06GcGmt3J             2  gold_rush\n",
            "6   UCJkNXbwDIgTnUXi             2     arabia\n",
            "28  BAgzGyGMFarQnabm             1    hideout\n",
            "29  xEN7qulZgPDvfNvq             1      arena\n",
            "<class 'pandas.core.frame.DataFrame'>\n",
            "Int64Index: 43972 entries, 6 to 1652282\n",
            "Data columns (total 4 columns):\n",
            " #   Column  Non-Null Count  Dtype  \n",
            "---  ------  --------------  -----  \n",
            " 0   match   43972 non-null  object \n",
            " 1   rating  43972 non-null  float64\n",
            " 2   civ     43972 non-null  object \n",
            " 3   team    43972 non-null  int64  \n",
            "dtypes: float64(1), int64(1), object(2)\n",
            "memory usage: 1.7+ MB\n",
            "None\n",
            "               match  rating      civ  team\n",
            "6   io7hCR1BsG6DjABa  1731.0  Burmese     1\n",
            "7   io7hCR1BsG6DjABa  1585.0    Malay     2\n",
            "8   SKQEdBEsbGyadzy2  1610.0  Britons     1\n",
            "9   SKQEdBEsbGyadzy2  1623.0  Britons     2\n",
            "14  Wq1KwvYNK3BGDwFz  1403.0  Malians     1\n"
          ]
        }
      ]
    },
    {
      "cell_type": "code",
      "metadata": {
        "colab": {
          "base_uri": "https://localhost:8080/"
        },
        "id": "_Wb3IhMaG8rC",
        "outputId": "9624a8f7-2a23-4881-933e-72bb39b43bf4"
      },
      "source": [
        "data = pd.DataFrame(columns=['map', 'rating_p1', 'civ_p1', 'rating_p2', 'civ_p2'])\n",
        "\n",
        "player_dict = players.to_dict('records')\n",
        "\n",
        "print_every = 500\n",
        "count = 0\n",
        "for match in tqdm(matches.to_dict('records')):\n",
        "    p1 = None\n",
        "    p2 = None\n",
        "    for i, player in enumerate(player_dict):\n",
        "        if player['match'] == match['token']:\n",
        "            if player['team'] == 1:\n",
        "                p1 = player\n",
        "                p1_i = i\n",
        "            elif player['team'] == 2:\n",
        "                p2 = player\n",
        "                p2_i = i\n",
        "            else:\n",
        "                raise Exception('something wrong with the teams in the data')\n",
        "        # to increase speed in later iterations \n",
        "        # lets remove already assigned players\n",
        "        if p1 and p2:\n",
        "            if p1_i < p2_i:\n",
        "                player_dict.pop(p2_i)\n",
        "                player_dict.pop(p1_i)\n",
        "            else:\n",
        "                player_dict.pop(p1_i)\n",
        "                player_dict.pop(p2_i)\n",
        "            break\n",
        "\n",
        "    if not p1 or not p2:\n",
        "        continue\n",
        "    else:\n",
        "        entry = {\n",
        "            'map' : match['map'],\n",
        "            'rating_p1' : p1['rating'],\n",
        "            'civ_p1' : p1['civ'],\n",
        "            'rating_p2' : p2['rating'],\n",
        "            'civ_p2' : p2['civ'],\n",
        "            'winner' : match['winning_team']\n",
        "        }\n",
        "        data = data.append(entry, ignore_index=True)\n",
        "\n",
        "        if count % print_every == 0:\n",
        "            clear_output()\n",
        "            print(data.info())\n",
        "            print(data.head())\n",
        "        count+=1\n",
        "print(count)"
      ],
      "execution_count": 3,
      "outputs": [
        {
          "output_type": "stream",
          "name": "stderr",
          "text": [
            " 98%|█████████▊| 136494/139046 [20:21<00:04, 623.44it/s]"
          ]
        },
        {
          "output_type": "stream",
          "name": "stdout",
          "text": [
            "<class 'pandas.core.frame.DataFrame'>\n",
            "RangeIndex: 21501 entries, 0 to 21500\n",
            "Data columns (total 6 columns):\n",
            " #   Column     Non-Null Count  Dtype  \n",
            "---  ------     --------------  -----  \n",
            " 0   map        21501 non-null  object \n",
            " 1   rating_p1  21501 non-null  float64\n",
            " 2   civ_p1     21501 non-null  object \n",
            " 3   rating_p2  21501 non-null  float64\n",
            " 4   civ_p2     21501 non-null  object \n",
            " 5   winner     21501 non-null  float64\n",
            "dtypes: float64(3), object(3)\n",
            "memory usage: 1008.0+ KB\n",
            "None\n",
            "          map  rating_p1  civ_p1  rating_p2      civ_p2  winner\n",
            "0  four_lakes      866.0   Khmer      866.0    Japanese     2.0\n",
            "1  ghost_lake     1088.0  Mayans     1099.0        Huns     2.0\n",
            "2       arena     1158.0   Celts     1165.0       Goths     2.0\n",
            "3  golden_pit     1165.0  Franks     1189.0  Vietnamese     1.0\n",
            "4      arabia     1058.0   Celts     1065.0     Mongols     1.0\n"
          ]
        },
        {
          "output_type": "stream",
          "name": "stderr",
          "text": [
            "100%|██████████| 139046/139046 [20:24<00:00, 113.51it/s]"
          ]
        },
        {
          "output_type": "stream",
          "name": "stdout",
          "text": [
            "21932\n"
          ]
        },
        {
          "output_type": "stream",
          "name": "stderr",
          "text": [
            "\n"
          ]
        }
      ]
    },
    {
      "cell_type": "code",
      "metadata": {
        "id": "EI5Jjd_rHanQ"
      },
      "source": [
        "data.to_csv('1v1_matches.csv')"
      ],
      "execution_count": 4,
      "outputs": []
    },
    {
      "cell_type": "code",
      "metadata": {
        "colab": {
          "base_uri": "https://localhost:8080/"
        },
        "id": "Dnl5XjJuEUQA",
        "outputId": "6d53122f-9572-4db2-a04d-173d3949a24e"
      },
      "source": [
        "print(count)"
      ],
      "execution_count": 5,
      "outputs": [
        {
          "output_type": "stream",
          "name": "stdout",
          "text": [
            "21932\n"
          ]
        }
      ]
    }
  ]
}